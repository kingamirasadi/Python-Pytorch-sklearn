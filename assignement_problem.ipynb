{
  "nbformat": 4,
  "nbformat_minor": 0,
  "metadata": {
    "colab": {
      "provenance": [],
      "authorship_tag": "ABX9TyMyTgMiPYY0mK5BWF1pzOta",
      "include_colab_link": true
    },
    "kernelspec": {
      "name": "python3",
      "display_name": "Python 3"
    },
    "language_info": {
      "name": "python"
    }
  },
  "cells": [
    {
      "cell_type": "markdown",
      "metadata": {
        "id": "view-in-github",
        "colab_type": "text"
      },
      "source": [
        "<a href=\"https://colab.research.google.com/github/kingamirasadi/Python-Pytorch-sklearn/blob/main/assignement_problem.ipynb\" target=\"_parent\"><img src=\"https://colab.research.google.com/assets/colab-badge.svg\" alt=\"Open In Colab\"/></a>"
      ]
    },
    {
      "cell_type": "code",
      "source": [
        "import munkres\n",
        "\n",
        "# Cost matrix representing the assignment cost between tasks and workers\n",
        "# Lower values indicate better suitability\n",
        "cost_matrix = [\n",
        "    [2, 5, 4],  # Task 1 costs\n",
        "    [8, 4, 7],  # Task 2 costs\n",
        "    [1, 3, 6]   # Task 3 costs\n",
        "]\n",
        "\n",
        "# Workers (rows) and Tasks (columns)\n",
        "workers = [\"Alice\", \"Bob\", \"Charlie\"]\n",
        "tasks = [\"Task 1\", \"Task 2\", \"Task 3\"]\n",
        "\n",
        "# Create a Munkres object\n",
        "m = Munkres()\n",
        "\n",
        "# Solve the assignment problem and get the optimal assignments (worker index, task index) pairs\n",
        "assignments = m.compute(cost_matrix)\n",
        "\n",
        "# Print the optimal assignments\n",
        "print(\"Optimal assignments:\")\n",
        "for worker_idx, task_idx in assignments:\n",
        "  print(f\"{workers[worker_idx]} assigned to {tasks[task_idx]}\")\n",
        "\n",
        "# Print the minimum total cost\n",
        "total_cost = sum(cost_matrix[row][col] for row, col in assignments)\n",
        "print(\"Minimum total cost:\", total_cost)\n"
      ],
      "metadata": {
        "colab": {
          "base_uri": "https://localhost:8080/"
        },
        "id": "u_2I89mP16MA",
        "outputId": "fce58c20-f05e-40d5-b208-cc0c712cf541"
      },
      "execution_count": 59,
      "outputs": [
        {
          "output_type": "stream",
          "name": "stdout",
          "text": [
            "Optimal assignments:\n",
            "Alice assigned to Task 3\n",
            "Bob assigned to Task 2\n",
            "Charlie assigned to Task 1\n",
            "Minimum total cost: 9\n"
          ]
        }
      ]
    }
  ]
}