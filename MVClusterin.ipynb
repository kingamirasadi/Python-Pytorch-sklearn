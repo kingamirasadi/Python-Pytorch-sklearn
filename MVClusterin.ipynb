{
  "nbformat": 4,
  "nbformat_minor": 0,
  "metadata": {
    "colab": {
      "provenance": [],
      "gpuType": "T4",
      "authorship_tag": "ABX9TyMttl4hk+X1w+jUiPnj4LeB",
      "include_colab_link": true
    },
    "kernelspec": {
      "name": "python3",
      "display_name": "Python 3"
    },
    "language_info": {
      "name": "python"
    },
    "accelerator": "GPU"
  },
  "cells": [
    {
      "cell_type": "markdown",
      "metadata": {
        "id": "view-in-github",
        "colab_type": "text"
      },
      "source": [
        "<a href=\"https://colab.research.google.com/github/kingamirasadi/Python-Pytorch-sklearn/blob/main/MVClusterin.ipynb\" target=\"_parent\"><img src=\"https://colab.research.google.com/assets/colab-badge.svg\" alt=\"Open In Colab\"/></a>"
      ]
    },
    {
      "cell_type": "code",
      "execution_count": 5,
      "metadata": {
        "id": "8G-xIg-zkqy5",
        "colab": {
          "base_uri": "https://localhost:8080/"
        },
        "outputId": "6edd5c1f-2baa-45f1-ab4d-d09a3410325a"
      },
      "outputs": [
        {
          "output_type": "stream",
          "name": "stdout",
          "text": [
            "Requirement already satisfied: mat73 in /usr/local/lib/python3.10/dist-packages (0.63)\n",
            "Requirement already satisfied: h5py in /usr/local/lib/python3.10/dist-packages (from mat73) (3.9.0)\n",
            "Requirement already satisfied: numpy in /usr/local/lib/python3.10/dist-packages (from mat73) (1.25.2)\n"
          ]
        }
      ],
      "source": [
        "pip install mat73\n"
      ]
    },
    {
      "cell_type": "code",
      "source": [
        "pip install torchcluster"
      ],
      "metadata": {
        "id": "mHjXUc9E52Mi",
        "colab": {
          "base_uri": "https://localhost:8080/"
        },
        "outputId": "f0f7fcce-90a0-44b6-ad9f-e1565fe3684c"
      },
      "execution_count": 6,
      "outputs": [
        {
          "output_type": "stream",
          "name": "stdout",
          "text": [
            "Requirement already satisfied: torchcluster in /usr/local/lib/python3.10/dist-packages (0.1.4)\n"
          ]
        }
      ]
    },
    {
      "cell_type": "code",
      "source": [
        "import torch\n",
        "import numpy as np\n",
        "import mat73"
      ],
      "metadata": {
        "id": "HnVpXaCLkwUO"
      },
      "execution_count": 15,
      "outputs": []
    },
    {
      "cell_type": "code",
      "source": [
        "mat_data = mat73.loadmat('/content/bbc_seg14of4.mat')\n"
      ],
      "metadata": {
        "id": "s6jCv0vok4eE"
      },
      "execution_count": 16,
      "outputs": []
    },
    {
      "cell_type": "code",
      "source": [
        "print((mat_data.keys()))"
      ],
      "metadata": {
        "colab": {
          "base_uri": "https://localhost:8080/"
        },
        "id": "sZjb1UEspg1W",
        "outputId": "cecdb8e6-1d62-4782-a3ae-c0f4d34f642d"
      },
      "execution_count": 18,
      "outputs": [
        {
          "output_type": "stream",
          "name": "stdout",
          "text": [
            "dict_keys(['data', 'labels'])\n"
          ]
        }
      ]
    },
    {
      "cell_type": "code",
      "source": [
        "data_matrices = mat_data['data']\n",
        "data_labels = mat_data['labels']"
      ],
      "metadata": {
        "id": "3wqtwbytlI5r"
      },
      "execution_count": 21,
      "outputs": []
    },
    {
      "cell_type": "code",
      "source": [
        "type(data_matrices)"
      ],
      "metadata": {
        "colab": {
          "base_uri": "https://localhost:8080/"
        },
        "id": "7RR_0a0xnerb",
        "outputId": "e7a630b6-3b2e-46aa-bafc-70716f8a0ba6"
      },
      "execution_count": 22,
      "outputs": [
        {
          "output_type": "execute_result",
          "data": {
            "text/plain": [
              "list"
            ]
          },
          "metadata": {},
          "execution_count": 22
        }
      ]
    },
    {
      "cell_type": "code",
      "source": [
        "X = []\n",
        "for i in range(len(data_matrices)):\n",
        "    tensor = torch.tensor(data_matrices[i]).squeeze()\n",
        "    X.append(torch.transpose(tensor , 0,1 ))\n"
      ],
      "metadata": {
        "id": "kKy3zbwIlL6W"
      },
      "execution_count": 23,
      "outputs": []
    },
    {
      "cell_type": "code",
      "source": [
        "counts , unique_num = np.unique(data_labels, return_counts=True)\n",
        "print(len(unique_num))"
      ],
      "metadata": {
        "id": "iC5yCI52rKjB"
      },
      "execution_count": null,
      "outputs": []
    },
    {
      "cell_type": "code",
      "source": [
        "X[0].shape"
      ],
      "metadata": {
        "colab": {
          "base_uri": "https://localhost:8080/"
        },
        "id": "W7X1f2yGtmt3",
        "outputId": "a7a6c84d-1fd5-4819-c952-b926118fdbf4"
      },
      "execution_count": 25,
      "outputs": [
        {
          "output_type": "execute_result",
          "data": {
            "text/plain": [
              "torch.Size([4659, 145])"
            ]
          },
          "metadata": {},
          "execution_count": 25
        }
      ]
    },
    {
      "cell_type": "code",
      "source": [
        "X[1].shape"
      ],
      "metadata": {
        "colab": {
          "base_uri": "https://localhost:8080/"
        },
        "id": "xCMptqpLtnYF",
        "outputId": "de76538a-471e-4ae9-b4fb-52dfb760005e"
      },
      "execution_count": 26,
      "outputs": [
        {
          "output_type": "execute_result",
          "data": {
            "text/plain": [
              "torch.Size([4633, 145])"
            ]
          },
          "metadata": {},
          "execution_count": 26
        }
      ]
    },
    {
      "cell_type": "code",
      "source": [
        "X[2].shape"
      ],
      "metadata": {
        "colab": {
          "base_uri": "https://localhost:8080/"
        },
        "id": "gp6g35Cqttik",
        "outputId": "c4205672-57c1-45d4-e8d4-affb11650340"
      },
      "execution_count": 27,
      "outputs": [
        {
          "output_type": "execute_result",
          "data": {
            "text/plain": [
              "torch.Size([4665, 145])"
            ]
          },
          "metadata": {},
          "execution_count": 27
        }
      ]
    },
    {
      "cell_type": "code",
      "source": [
        "X[3].shape"
      ],
      "metadata": {
        "colab": {
          "base_uri": "https://localhost:8080/"
        },
        "id": "IhZvjzaotvdp",
        "outputId": "28a0d594-4630-4bcb-cbd1-01f00c5e1096"
      },
      "execution_count": 28,
      "outputs": [
        {
          "output_type": "execute_result",
          "data": {
            "text/plain": [
              "torch.Size([4684, 145])"
            ]
          },
          "metadata": {},
          "execution_count": 28
        }
      ]
    },
    {
      "cell_type": "code",
      "source": [
        "alpha = torch.tensor([0.1 , 0.2 , 0.3])\n",
        "beta = torch.tensor([ 0.01 , 0.02 , 0.03])\n",
        "landa = torch.tensor([0.001 , 0.002 , 0.003])"
      ],
      "metadata": {
        "id": "UWb-YB5nvFvY"
      },
      "execution_count": 29,
      "outputs": []
    },
    {
      "cell_type": "code",
      "source": [
        "nu = len(data_matrices)"
      ],
      "metadata": {
        "id": "WeK0XV13vK4_"
      },
      "execution_count": 30,
      "outputs": []
    },
    {
      "cell_type": "code",
      "source": [
        "nu"
      ],
      "metadata": {
        "colab": {
          "base_uri": "https://localhost:8080/"
        },
        "id": "t2H_TnMtLvXV",
        "outputId": "cd5b5170-f19f-4364-988f-2eb46a1afada"
      },
      "execution_count": 31,
      "outputs": [
        {
          "output_type": "execute_result",
          "data": {
            "text/plain": [
              "4"
            ]
          },
          "metadata": {},
          "execution_count": 31
        }
      ]
    },
    {
      "cell_type": "code",
      "source": [
        "omega =  torch.randn(1,nu)"
      ],
      "metadata": {
        "id": "LUPxv4ZxvpE4"
      },
      "execution_count": 32,
      "outputs": []
    },
    {
      "cell_type": "code",
      "source": [
        "omega"
      ],
      "metadata": {
        "colab": {
          "base_uri": "https://localhost:8080/"
        },
        "id": "36SyK7IMvzmL",
        "outputId": "a473c88f-d404-4233-ecd9-abbf787fd2ca"
      },
      "execution_count": 33,
      "outputs": [
        {
          "output_type": "execute_result",
          "data": {
            "text/plain": [
              "tensor([[ 0.6144,  0.1525, -2.0411, -1.1397]])"
            ]
          },
          "metadata": {},
          "execution_count": 33
        }
      ]
    },
    {
      "cell_type": "code",
      "source": [
        "gamma = torch.randn(1,nu)"
      ],
      "metadata": {
        "id": "dt18etx7v1hg"
      },
      "execution_count": 34,
      "outputs": []
    },
    {
      "cell_type": "code",
      "source": [
        "gamma"
      ],
      "metadata": {
        "colab": {
          "base_uri": "https://localhost:8080/"
        },
        "id": "ijv46nAmwXsJ",
        "outputId": "24bf9de3-5dc1-4656-a669-53b04e5af1b0"
      },
      "execution_count": 35,
      "outputs": [
        {
          "output_type": "execute_result",
          "data": {
            "text/plain": [
              "tensor([[-0.1076,  1.6383, -1.0786, -0.8724]])"
            ]
          },
          "metadata": {},
          "execution_count": 35
        }
      ]
    },
    {
      "cell_type": "code",
      "source": [
        "n = len(data_labels)\n",
        "k = len(unique_num)\n",
        "F = torch.randn(n,k , dtype=torch.float)"
      ],
      "metadata": {
        "id": "ztCMbf3Yw55y"
      },
      "execution_count": 36,
      "outputs": []
    },
    {
      "cell_type": "code",
      "source": [
        "Z = torch.eye(n,n)"
      ],
      "metadata": {
        "id": "8En0mTdWywUr"
      },
      "execution_count": 37,
      "outputs": []
    },
    {
      "cell_type": "code",
      "source": [
        "# H = torch.zeros((F.shape[0], F.shape[0]))"
      ],
      "metadata": {
        "id": "vPx5Jr-NwmBE"
      },
      "execution_count": null,
      "outputs": []
    },
    {
      "cell_type": "code",
      "source": [
        "# for i in range(F.shape[0]):\n",
        "#     for j in range(i, F.shape[0]):\n",
        "#         norm = torch.linalg.norm(F[i, :] - F[j, :], ord=2)\n",
        "#         H[i, j] = norm\n",
        "#         H[j, i] = norm"
      ],
      "metadata": {
        "id": "ybRgBoX1ykEM"
      },
      "execution_count": null,
      "outputs": []
    },
    {
      "cell_type": "code",
      "source": [
        "def laplacian_matrices(X):\n",
        "\n",
        "    diagonal_matrices = []\n",
        "    laplacian_matrices = []\n",
        "    # creating similarity matrix(Gussian Kernel)\n",
        "    for tensor in X:\n",
        "        x_flat = tensor.view(tensor.size(0), -1)\n",
        "        sigma = 1\n",
        "        gaussian_sim = torch.exp(-torch.cdist(x_flat, x_flat, p=2.0) ** 2 / (2 * sigma ** 2))\n",
        "        # sum of each similarity matrix row\n",
        "        row_sums = torch.sum(gaussian_sim, dim=1)\n",
        "        new_matrix = torch.diag(row_sums)\n",
        "        diagonal_matrices.append(new_matrix)\n",
        "\n",
        "        # Calculate the Laplacian matrix\n",
        "        lap = new_matrix - gaussian_sim\n",
        "        laplacian_matrices.append(lap)\n",
        "\n",
        "    return laplacian_matrices"
      ],
      "metadata": {
        "id": "ZWo2IJSlV8I6"
      },
      "execution_count": 38,
      "outputs": []
    },
    {
      "cell_type": "code",
      "source": [
        "lap_list = laplacian_matrices(X)"
      ],
      "metadata": {
        "id": "g784ZaHIYpqp"
      },
      "execution_count": 39,
      "outputs": []
    },
    {
      "cell_type": "code",
      "source": [
        "for tensor in lap_list:\n",
        "    eigenvalues, eigenvectors = torch.linalg.eigh(tensor)\n",
        "    sorted_indices = torch.argsort(eigenvalues)\n",
        "    sorted_eigenvalues = eigenvalues[sorted_indices]\n",
        "    sorted_eigenvectors = eigenvectors[:, sorted_indices]\n",
        "    print(f\"Eigenvalues for tensor:\\n{eigenvalues}\")\n",
        "    print(f\"Eigenvectors for tensor:\\n{eigenvectors}\")"
      ],
      "metadata": {
        "colab": {
          "base_uri": "https://localhost:8080/"
        },
        "id": "F1iCcieIV8m5",
        "outputId": "922363cf-2e7a-4807-e10f-b6fd26ac9bbc"
      },
      "execution_count": 40,
      "outputs": [
        {
          "output_type": "stream",
          "name": "stdout",
          "text": [
            "Eigenvalues for tensor:\n",
            "tensor([-1.6003e-12, -1.1999e-12, -6.3402e-13,  ...,  3.2032e+03,\n",
            "         3.2032e+03,  3.2032e+03], dtype=torch.float64)\n",
            "Eigenvectors for tensor:\n",
            "tensor([[ 0.0000e+00,  0.0000e+00,  0.0000e+00,  ...,  0.0000e+00,\n",
            "          0.0000e+00,  0.0000e+00],\n",
            "        [-6.9486e-15, -3.0995e-14,  2.0993e-15,  ..., -2.6515e-19,\n",
            "         -2.8529e-17,  6.6848e-18],\n",
            "        [ 1.5972e-14, -8.1330e-15, -1.9991e-16,  ..., -8.8481e-18,\n",
            "          5.3200e-18,  2.1758e-17],\n",
            "        ...,\n",
            "        [ 6.4887e-15, -6.4345e-15, -1.1407e-14,  ..., -2.0343e-02,\n",
            "         -6.6536e-03,  5.6497e-03],\n",
            "        [ 6.4850e-15, -6.4068e-15, -1.1397e-14,  ...,  3.5707e-05,\n",
            "         -1.4122e-02, -2.6715e-02],\n",
            "        [ 6.5136e-15, -6.4111e-15, -1.1398e-14,  ...,  7.7069e-03,\n",
            "          2.0734e-02,  2.0336e-03]], dtype=torch.float64)\n",
            "Eigenvalues for tensor:\n",
            "tensor([-1.4391e-11, -2.9168e-12, -1.0975e-12,  ...,  3.2111e+03,\n",
            "         3.2111e+03,  3.2111e+03], dtype=torch.float64)\n",
            "Eigenvectors for tensor:\n",
            "tensor([[ 1.4705e-02,  0.0000e+00,  0.0000e+00,  ...,  0.0000e+00,\n",
            "          0.0000e+00,  0.0000e+00],\n",
            "        [ 1.4705e-02, -7.7885e-16,  2.9318e-16,  ..., -4.2484e-18,\n",
            "          7.7654e-18,  1.2621e-17],\n",
            "        [ 1.4705e-02, -6.7112e-16,  2.0361e-16,  ...,  1.3639e-17,\n",
            "          4.8294e-18, -1.0899e-17],\n",
            "        ...,\n",
            "        [ 1.4705e-02, -7.9899e-16,  2.3332e-16,  ...,  1.0312e-02,\n",
            "          3.1959e-05, -1.4119e-02],\n",
            "        [ 1.4705e-02, -8.0586e-16,  2.2866e-16,  ...,  4.8973e-03,\n",
            "          1.7811e-03,  3.4223e-03],\n",
            "        [ 1.4705e-02, -8.1028e-16,  2.3885e-16,  ..., -1.9089e-03,\n",
            "          8.7859e-03, -1.0489e-02]], dtype=torch.float64)\n",
            "Eigenvalues for tensor:\n",
            "tensor([-1.7114e-12, -6.1784e-13, -3.5484e-14,  ...,  3.2467e+03,\n",
            "         3.2467e+03,  3.2467e+03], dtype=torch.float64)\n",
            "Eigenvectors for tensor:\n",
            "tensor([[ 0.0000e+00,  0.0000e+00,  0.0000e+00,  ...,  0.0000e+00,\n",
            "          0.0000e+00,  0.0000e+00],\n",
            "        [ 3.9796e-15, -2.6316e-15,  1.7160e-15,  ...,  2.5890e-17,\n",
            "          1.0471e-17,  6.3044e-17],\n",
            "        [ 3.9115e-15, -3.1104e-15,  1.7249e-15,  ..., -3.1569e-18,\n",
            "          2.8742e-17,  5.2750e-18],\n",
            "        ...,\n",
            "        [ 3.9734e-15, -2.6854e-15,  1.7937e-15,  ..., -5.7524e-03,\n",
            "         -6.5446e-03,  2.8806e-03],\n",
            "        [ 3.9929e-15, -2.6559e-15,  1.7781e-15,  ...,  9.9625e-03,\n",
            "         -1.3308e-02,  6.8320e-03],\n",
            "        [ 3.9300e-15, -2.6125e-15,  1.7538e-15,  ...,  1.1296e-02,\n",
            "         -7.9717e-03,  1.5882e-02]], dtype=torch.float64)\n",
            "Eigenvalues for tensor:\n",
            "tensor([-3.7619e-11, -3.3372e-13, -2.2916e-13,  ...,  3.2230e+03,\n",
            "         3.2230e+03,  3.2230e+03], dtype=torch.float64)\n",
            "Eigenvectors for tensor:\n",
            "tensor([[ 1.4630e-02,  3.0962e-05,  0.0000e+00,  ...,  0.0000e+00,\n",
            "          0.0000e+00,  0.0000e+00],\n",
            "        [ 9.4757e-03,  2.0090e-05,  1.1886e-04,  ...,  2.0176e-17,\n",
            "          6.7935e-17,  1.9073e-17],\n",
            "        [ 1.4630e-02,  3.0962e-05, -4.6287e-16,  ..., -3.2335e-17,\n",
            "         -2.6187e-17, -1.0307e-16],\n",
            "        ...,\n",
            "        [ 1.4630e-02,  3.0962e-05,  5.8953e-18,  ...,  1.5589e-02,\n",
            "         -7.8517e-03,  7.5067e-04],\n",
            "        [ 1.4630e-02,  3.0962e-05, -6.9796e-18,  ..., -2.0436e-02,\n",
            "          6.5375e-03, -6.7892e-03],\n",
            "        [ 1.4630e-02,  3.0962e-05,  1.8675e-17,  ..., -5.3245e-03,\n",
            "          1.2032e-02, -2.0761e-03]], dtype=torch.float64)\n"
          ]
        }
      ]
    },
    {
      "cell_type": "code",
      "source": [],
      "metadata": {
        "id": "v2x_rn2PapSo"
      },
      "execution_count": null,
      "outputs": []
    }
  ]
}