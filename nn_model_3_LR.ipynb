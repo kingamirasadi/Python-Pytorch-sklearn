{
  "nbformat": 4,
  "nbformat_minor": 0,
  "metadata": {
    "colab": {
      "provenance": [],
      "gpuType": "T4",
      "authorship_tag": "ABX9TyOmqtXa7DUzsH9/Vu2FGvPp",
      "include_colab_link": true
    },
    "kernelspec": {
      "name": "python3",
      "display_name": "Python 3"
    },
    "language_info": {
      "name": "python"
    },
    "accelerator": "GPU"
  },
  "cells": [
    {
      "cell_type": "markdown",
      "metadata": {
        "id": "view-in-github",
        "colab_type": "text"
      },
      "source": [
        "<a href=\"https://colab.research.google.com/github/kingamirasadi/Python-Pytorch-sklearn/blob/main/nn_model_3_LR.ipynb\" target=\"_parent\"><img src=\"https://colab.research.google.com/assets/colab-badge.svg\" alt=\"Open In Colab\"/></a>"
      ]
    },
    {
      "cell_type": "code",
      "source": [
        "#pip install pathlib"
      ],
      "metadata": {
        "colab": {
          "base_uri": "https://localhost:8080/"
        },
        "id": "wpY3NXkcopzP",
        "outputId": "8152fd7f-2b47-4a82-d5a8-ba3b90450630"
      },
      "execution_count": null,
      "outputs": [
        {
          "output_type": "stream",
          "name": "stdout",
          "text": [
            "Requirement already satisfied: pathlib in /usr/local/lib/python3.10/dist-packages (1.0.1)\n"
          ]
        }
      ]
    },
    {
      "cell_type": "code",
      "execution_count": null,
      "metadata": {
        "id": "Yqr1HWmajhiH"
      },
      "outputs": [],
      "source": [
        "import torch\n",
        "import numpy as np\n",
        "import torch.nn as nn\n",
        "from sklearn.model_selection import train_test_split\n",
        "from pathlib import Path"
      ]
    },
    {
      "cell_type": "code",
      "source": [
        "data = np.random.rand(10000)\n",
        "data_reshaped = data.reshape(2000,5)"
      ],
      "metadata": {
        "id": "fqzqpISFkJKO"
      },
      "execution_count": null,
      "outputs": []
    },
    {
      "cell_type": "code",
      "source": [
        "X = torch.from_numpy(data_reshaped)"
      ],
      "metadata": {
        "id": "gzPfutmflMn7"
      },
      "execution_count": null,
      "outputs": []
    },
    {
      "cell_type": "code",
      "source": [
        "data_y = np.random.rand(2000)"
      ],
      "metadata": {
        "id": "VEjFVIR_lgcy"
      },
      "execution_count": null,
      "outputs": []
    },
    {
      "cell_type": "code",
      "source": [
        "y = torch.from_numpy(data_y).unsqueeze(dim = 1)"
      ],
      "metadata": {
        "id": "Ism9WlsnlroX"
      },
      "execution_count": null,
      "outputs": []
    },
    {
      "cell_type": "code",
      "source": [
        "X = X.to(dtype=torch.float32)\n",
        "y = y.to(dtype=torch.float32)"
      ],
      "metadata": {
        "id": "Y2FULTDxmYWX"
      },
      "execution_count": null,
      "outputs": []
    },
    {
      "cell_type": "code",
      "source": [
        "X_train, X_test, y_train, y_test = train_test_split(X, y, test_size=0.3, random_state=42)"
      ],
      "metadata": {
        "id": "SQcoF4cblxG4"
      },
      "execution_count": null,
      "outputs": []
    },
    {
      "cell_type": "code",
      "source": [
        "# create model"
      ],
      "metadata": {
        "id": "M7gg-erbmxJC"
      },
      "execution_count": null,
      "outputs": []
    },
    {
      "cell_type": "code",
      "source": [
        "n_features = X.shape[1]"
      ],
      "metadata": {
        "id": "4WeYVwiPnCki"
      },
      "execution_count": null,
      "outputs": []
    },
    {
      "cell_type": "code",
      "source": [
        "class LR(nn.Module):\n",
        "    def __init__(self, n_features):\n",
        "        super(LR, self).__init__()\n",
        "        self.linear = nn.Linear(n_features, 1)# number of features and targets\n",
        "\n",
        "    def forward(self, x):\n",
        "        return self.linear(x)"
      ],
      "metadata": {
        "id": "HhTRz2yyr-1y"
      },
      "execution_count": null,
      "outputs": []
    },
    {
      "cell_type": "code",
      "source": [
        "# create an instance of the model"
      ],
      "metadata": {
        "id": "9HWwaw76m-Da"
      },
      "execution_count": null,
      "outputs": []
    },
    {
      "cell_type": "code",
      "source": [
        "model_3 = LR(n_features)"
      ],
      "metadata": {
        "id": "FYOQYKdJp3IE"
      },
      "execution_count": null,
      "outputs": []
    },
    {
      "cell_type": "code",
      "source": [
        "#Defining the loss function"
      ],
      "metadata": {
        "id": "0xeg5gGfp-3K"
      },
      "execution_count": null,
      "outputs": []
    },
    {
      "cell_type": "code",
      "source": [
        "criterion = nn.MSELoss()"
      ],
      "metadata": {
        "id": "bQGf7YE-qFzd"
      },
      "execution_count": null,
      "outputs": []
    },
    {
      "cell_type": "code",
      "source": [
        "# Defining An Optimizer for our model"
      ],
      "metadata": {
        "id": "Pnh-86nmqT-G"
      },
      "execution_count": null,
      "outputs": []
    },
    {
      "cell_type": "code",
      "source": [
        "optimizer = torch.optim.SGD(model_3.parameters(), lr=0.1)"
      ],
      "metadata": {
        "id": "x-qhawrVqYBD"
      },
      "execution_count": null,
      "outputs": []
    },
    {
      "cell_type": "code",
      "source": [
        "# It is time to train our model with our data"
      ],
      "metadata": {
        "id": "56NlFzkmqa9k"
      },
      "execution_count": null,
      "outputs": []
    },
    {
      "cell_type": "code",
      "source": [
        "epochs = 200\n",
        "for epoch in range(epochs):\n",
        "  model_3.train()\n",
        "  y_pred = model_3(X_train)\n",
        "  loss = criterion(y_pred,y_train)\n",
        "  optimizer.zero_grad()\n",
        "  loss.backward()\n",
        "  optimizer.step()\n",
        "  model_3.eval()\n",
        "  with torch.inference_mode():\n",
        "        test_pred = model_3(X_test)\n",
        "        test_loss = criterion(test_pred, y_test)\n",
        "  if epoch % 10 == 0:\n",
        "        print(f\"Epoch : {epoch} | Loss : {test_loss.item()}\")\n",
        "  print(model_3.state_dict())"
      ],
      "metadata": {
        "id": "-BU1D0I1qknn",
        "colab": {
          "base_uri": "https://localhost:8080/"
        },
        "outputId": "b265d360-45b3-440a-841f-3bcd98cd5373"
      },
      "execution_count": null,
      "outputs": [
        {
          "output_type": "stream",
          "name": "stdout",
          "text": [
            "Epoch : 0 | Loss : 0.08919437229633331\n",
            "OrderedDict([('linear.weight', tensor([[-0.0275, -0.0296,  0.0145,  0.0146, -0.0334]])), ('linear.bias', tensor([0.5129]))])\n",
            "OrderedDict([('linear.weight', tensor([[-0.0275, -0.0296,  0.0145,  0.0146, -0.0334]])), ('linear.bias', tensor([0.5129]))])\n",
            "OrderedDict([('linear.weight', tensor([[-0.0275, -0.0296,  0.0145,  0.0146, -0.0334]])), ('linear.bias', tensor([0.5129]))])\n",
            "OrderedDict([('linear.weight', tensor([[-0.0275, -0.0296,  0.0145,  0.0146, -0.0334]])), ('linear.bias', tensor([0.5129]))])\n",
            "OrderedDict([('linear.weight', tensor([[-0.0275, -0.0296,  0.0145,  0.0146, -0.0334]])), ('linear.bias', tensor([0.5129]))])\n",
            "OrderedDict([('linear.weight', tensor([[-0.0275, -0.0296,  0.0145,  0.0146, -0.0334]])), ('linear.bias', tensor([0.5129]))])\n",
            "OrderedDict([('linear.weight', tensor([[-0.0275, -0.0296,  0.0145,  0.0146, -0.0334]])), ('linear.bias', tensor([0.5129]))])\n",
            "OrderedDict([('linear.weight', tensor([[-0.0275, -0.0296,  0.0145,  0.0146, -0.0334]])), ('linear.bias', tensor([0.5129]))])\n",
            "OrderedDict([('linear.weight', tensor([[-0.0275, -0.0296,  0.0145,  0.0146, -0.0334]])), ('linear.bias', tensor([0.5129]))])\n",
            "OrderedDict([('linear.weight', tensor([[-0.0275, -0.0296,  0.0145,  0.0146, -0.0334]])), ('linear.bias', tensor([0.5129]))])\n",
            "Epoch : 10 | Loss : 0.08919437229633331\n",
            "OrderedDict([('linear.weight', tensor([[-0.0275, -0.0296,  0.0145,  0.0146, -0.0334]])), ('linear.bias', tensor([0.5129]))])\n",
            "OrderedDict([('linear.weight', tensor([[-0.0275, -0.0296,  0.0145,  0.0146, -0.0334]])), ('linear.bias', tensor([0.5129]))])\n",
            "OrderedDict([('linear.weight', tensor([[-0.0275, -0.0296,  0.0145,  0.0146, -0.0334]])), ('linear.bias', tensor([0.5129]))])\n",
            "OrderedDict([('linear.weight', tensor([[-0.0275, -0.0296,  0.0145,  0.0146, -0.0334]])), ('linear.bias', tensor([0.5129]))])\n",
            "OrderedDict([('linear.weight', tensor([[-0.0275, -0.0296,  0.0145,  0.0146, -0.0334]])), ('linear.bias', tensor([0.5129]))])\n",
            "OrderedDict([('linear.weight', tensor([[-0.0275, -0.0296,  0.0145,  0.0146, -0.0334]])), ('linear.bias', tensor([0.5129]))])\n",
            "OrderedDict([('linear.weight', tensor([[-0.0275, -0.0296,  0.0145,  0.0146, -0.0334]])), ('linear.bias', tensor([0.5129]))])\n",
            "OrderedDict([('linear.weight', tensor([[-0.0275, -0.0296,  0.0145,  0.0146, -0.0334]])), ('linear.bias', tensor([0.5129]))])\n",
            "OrderedDict([('linear.weight', tensor([[-0.0275, -0.0296,  0.0145,  0.0146, -0.0334]])), ('linear.bias', tensor([0.5129]))])\n",
            "OrderedDict([('linear.weight', tensor([[-0.0275, -0.0296,  0.0145,  0.0146, -0.0334]])), ('linear.bias', tensor([0.5129]))])\n",
            "Epoch : 20 | Loss : 0.08919437229633331\n",
            "OrderedDict([('linear.weight', tensor([[-0.0275, -0.0296,  0.0145,  0.0146, -0.0334]])), ('linear.bias', tensor([0.5129]))])\n",
            "OrderedDict([('linear.weight', tensor([[-0.0275, -0.0296,  0.0145,  0.0146, -0.0334]])), ('linear.bias', tensor([0.5129]))])\n",
            "OrderedDict([('linear.weight', tensor([[-0.0275, -0.0296,  0.0145,  0.0146, -0.0334]])), ('linear.bias', tensor([0.5129]))])\n",
            "OrderedDict([('linear.weight', tensor([[-0.0275, -0.0296,  0.0145,  0.0146, -0.0334]])), ('linear.bias', tensor([0.5129]))])\n",
            "OrderedDict([('linear.weight', tensor([[-0.0275, -0.0296,  0.0145,  0.0146, -0.0334]])), ('linear.bias', tensor([0.5129]))])\n",
            "OrderedDict([('linear.weight', tensor([[-0.0275, -0.0296,  0.0145,  0.0146, -0.0334]])), ('linear.bias', tensor([0.5129]))])\n",
            "OrderedDict([('linear.weight', tensor([[-0.0275, -0.0296,  0.0145,  0.0146, -0.0334]])), ('linear.bias', tensor([0.5129]))])\n",
            "OrderedDict([('linear.weight', tensor([[-0.0275, -0.0296,  0.0145,  0.0146, -0.0334]])), ('linear.bias', tensor([0.5129]))])\n",
            "OrderedDict([('linear.weight', tensor([[-0.0275, -0.0296,  0.0145,  0.0146, -0.0334]])), ('linear.bias', tensor([0.5129]))])\n",
            "OrderedDict([('linear.weight', tensor([[-0.0275, -0.0296,  0.0145,  0.0146, -0.0334]])), ('linear.bias', tensor([0.5129]))])\n",
            "Epoch : 30 | Loss : 0.08919437229633331\n",
            "OrderedDict([('linear.weight', tensor([[-0.0275, -0.0296,  0.0145,  0.0146, -0.0334]])), ('linear.bias', tensor([0.5129]))])\n",
            "OrderedDict([('linear.weight', tensor([[-0.0275, -0.0296,  0.0145,  0.0146, -0.0334]])), ('linear.bias', tensor([0.5129]))])\n",
            "OrderedDict([('linear.weight', tensor([[-0.0275, -0.0296,  0.0145,  0.0146, -0.0334]])), ('linear.bias', tensor([0.5129]))])\n",
            "OrderedDict([('linear.weight', tensor([[-0.0275, -0.0296,  0.0145,  0.0146, -0.0334]])), ('linear.bias', tensor([0.5129]))])\n",
            "OrderedDict([('linear.weight', tensor([[-0.0275, -0.0296,  0.0145,  0.0146, -0.0334]])), ('linear.bias', tensor([0.5129]))])\n",
            "OrderedDict([('linear.weight', tensor([[-0.0275, -0.0296,  0.0145,  0.0146, -0.0334]])), ('linear.bias', tensor([0.5129]))])\n",
            "OrderedDict([('linear.weight', tensor([[-0.0275, -0.0296,  0.0145,  0.0146, -0.0334]])), ('linear.bias', tensor([0.5129]))])\n",
            "OrderedDict([('linear.weight', tensor([[-0.0275, -0.0296,  0.0145,  0.0146, -0.0334]])), ('linear.bias', tensor([0.5129]))])\n",
            "OrderedDict([('linear.weight', tensor([[-0.0275, -0.0296,  0.0145,  0.0146, -0.0334]])), ('linear.bias', tensor([0.5129]))])\n",
            "OrderedDict([('linear.weight', tensor([[-0.0275, -0.0296,  0.0145,  0.0146, -0.0334]])), ('linear.bias', tensor([0.5129]))])\n",
            "Epoch : 40 | Loss : 0.08919437229633331\n",
            "OrderedDict([('linear.weight', tensor([[-0.0275, -0.0296,  0.0145,  0.0146, -0.0334]])), ('linear.bias', tensor([0.5129]))])\n",
            "OrderedDict([('linear.weight', tensor([[-0.0275, -0.0296,  0.0145,  0.0146, -0.0334]])), ('linear.bias', tensor([0.5129]))])\n",
            "OrderedDict([('linear.weight', tensor([[-0.0275, -0.0296,  0.0145,  0.0146, -0.0334]])), ('linear.bias', tensor([0.5129]))])\n",
            "OrderedDict([('linear.weight', tensor([[-0.0275, -0.0296,  0.0145,  0.0146, -0.0334]])), ('linear.bias', tensor([0.5129]))])\n",
            "OrderedDict([('linear.weight', tensor([[-0.0275, -0.0296,  0.0145,  0.0146, -0.0334]])), ('linear.bias', tensor([0.5129]))])\n",
            "OrderedDict([('linear.weight', tensor([[-0.0275, -0.0296,  0.0145,  0.0146, -0.0334]])), ('linear.bias', tensor([0.5129]))])\n",
            "OrderedDict([('linear.weight', tensor([[-0.0275, -0.0296,  0.0145,  0.0146, -0.0334]])), ('linear.bias', tensor([0.5129]))])\n",
            "OrderedDict([('linear.weight', tensor([[-0.0275, -0.0296,  0.0145,  0.0146, -0.0334]])), ('linear.bias', tensor([0.5129]))])\n",
            "OrderedDict([('linear.weight', tensor([[-0.0275, -0.0296,  0.0145,  0.0146, -0.0334]])), ('linear.bias', tensor([0.5129]))])\n",
            "OrderedDict([('linear.weight', tensor([[-0.0275, -0.0296,  0.0145,  0.0146, -0.0334]])), ('linear.bias', tensor([0.5129]))])\n",
            "Epoch : 50 | Loss : 0.08919437229633331\n",
            "OrderedDict([('linear.weight', tensor([[-0.0275, -0.0296,  0.0145,  0.0146, -0.0334]])), ('linear.bias', tensor([0.5129]))])\n",
            "OrderedDict([('linear.weight', tensor([[-0.0275, -0.0296,  0.0145,  0.0146, -0.0334]])), ('linear.bias', tensor([0.5129]))])\n",
            "OrderedDict([('linear.weight', tensor([[-0.0275, -0.0296,  0.0145,  0.0146, -0.0334]])), ('linear.bias', tensor([0.5129]))])\n",
            "OrderedDict([('linear.weight', tensor([[-0.0275, -0.0296,  0.0145,  0.0146, -0.0334]])), ('linear.bias', tensor([0.5129]))])\n",
            "OrderedDict([('linear.weight', tensor([[-0.0275, -0.0296,  0.0145,  0.0146, -0.0334]])), ('linear.bias', tensor([0.5129]))])\n",
            "OrderedDict([('linear.weight', tensor([[-0.0275, -0.0296,  0.0145,  0.0146, -0.0334]])), ('linear.bias', tensor([0.5129]))])\n",
            "OrderedDict([('linear.weight', tensor([[-0.0275, -0.0296,  0.0145,  0.0146, -0.0334]])), ('linear.bias', tensor([0.5129]))])\n",
            "OrderedDict([('linear.weight', tensor([[-0.0275, -0.0296,  0.0145,  0.0146, -0.0334]])), ('linear.bias', tensor([0.5129]))])\n",
            "OrderedDict([('linear.weight', tensor([[-0.0275, -0.0296,  0.0145,  0.0146, -0.0334]])), ('linear.bias', tensor([0.5129]))])\n",
            "OrderedDict([('linear.weight', tensor([[-0.0275, -0.0296,  0.0145,  0.0146, -0.0334]])), ('linear.bias', tensor([0.5129]))])\n",
            "Epoch : 60 | Loss : 0.08919437229633331\n",
            "OrderedDict([('linear.weight', tensor([[-0.0275, -0.0296,  0.0145,  0.0146, -0.0334]])), ('linear.bias', tensor([0.5129]))])\n",
            "OrderedDict([('linear.weight', tensor([[-0.0275, -0.0296,  0.0145,  0.0146, -0.0334]])), ('linear.bias', tensor([0.5129]))])\n",
            "OrderedDict([('linear.weight', tensor([[-0.0275, -0.0296,  0.0145,  0.0146, -0.0334]])), ('linear.bias', tensor([0.5129]))])\n",
            "OrderedDict([('linear.weight', tensor([[-0.0275, -0.0296,  0.0145,  0.0146, -0.0334]])), ('linear.bias', tensor([0.5129]))])\n",
            "OrderedDict([('linear.weight', tensor([[-0.0275, -0.0296,  0.0145,  0.0146, -0.0334]])), ('linear.bias', tensor([0.5129]))])\n",
            "OrderedDict([('linear.weight', tensor([[-0.0275, -0.0296,  0.0145,  0.0146, -0.0334]])), ('linear.bias', tensor([0.5129]))])\n",
            "OrderedDict([('linear.weight', tensor([[-0.0275, -0.0296,  0.0145,  0.0146, -0.0334]])), ('linear.bias', tensor([0.5129]))])\n",
            "OrderedDict([('linear.weight', tensor([[-0.0275, -0.0296,  0.0145,  0.0146, -0.0334]])), ('linear.bias', tensor([0.5129]))])\n",
            "OrderedDict([('linear.weight', tensor([[-0.0275, -0.0296,  0.0145,  0.0146, -0.0334]])), ('linear.bias', tensor([0.5129]))])\n",
            "OrderedDict([('linear.weight', tensor([[-0.0275, -0.0296,  0.0145,  0.0146, -0.0334]])), ('linear.bias', tensor([0.5129]))])\n",
            "Epoch : 70 | Loss : 0.08919437229633331\n",
            "OrderedDict([('linear.weight', tensor([[-0.0275, -0.0296,  0.0145,  0.0146, -0.0334]])), ('linear.bias', tensor([0.5129]))])\n",
            "OrderedDict([('linear.weight', tensor([[-0.0275, -0.0296,  0.0145,  0.0146, -0.0334]])), ('linear.bias', tensor([0.5129]))])\n",
            "OrderedDict([('linear.weight', tensor([[-0.0275, -0.0296,  0.0145,  0.0146, -0.0334]])), ('linear.bias', tensor([0.5129]))])\n",
            "OrderedDict([('linear.weight', tensor([[-0.0275, -0.0296,  0.0145,  0.0146, -0.0334]])), ('linear.bias', tensor([0.5129]))])\n",
            "OrderedDict([('linear.weight', tensor([[-0.0275, -0.0296,  0.0145,  0.0146, -0.0334]])), ('linear.bias', tensor([0.5129]))])\n",
            "OrderedDict([('linear.weight', tensor([[-0.0275, -0.0296,  0.0145,  0.0146, -0.0334]])), ('linear.bias', tensor([0.5129]))])\n",
            "OrderedDict([('linear.weight', tensor([[-0.0275, -0.0296,  0.0145,  0.0146, -0.0334]])), ('linear.bias', tensor([0.5129]))])\n",
            "OrderedDict([('linear.weight', tensor([[-0.0275, -0.0296,  0.0145,  0.0146, -0.0334]])), ('linear.bias', tensor([0.5129]))])\n",
            "OrderedDict([('linear.weight', tensor([[-0.0275, -0.0296,  0.0145,  0.0146, -0.0334]])), ('linear.bias', tensor([0.5129]))])\n",
            "OrderedDict([('linear.weight', tensor([[-0.0275, -0.0296,  0.0145,  0.0146, -0.0334]])), ('linear.bias', tensor([0.5129]))])\n",
            "Epoch : 80 | Loss : 0.08919437229633331\n",
            "OrderedDict([('linear.weight', tensor([[-0.0275, -0.0296,  0.0145,  0.0146, -0.0334]])), ('linear.bias', tensor([0.5129]))])\n",
            "OrderedDict([('linear.weight', tensor([[-0.0275, -0.0296,  0.0145,  0.0146, -0.0334]])), ('linear.bias', tensor([0.5129]))])\n",
            "OrderedDict([('linear.weight', tensor([[-0.0275, -0.0296,  0.0145,  0.0146, -0.0334]])), ('linear.bias', tensor([0.5129]))])\n",
            "OrderedDict([('linear.weight', tensor([[-0.0275, -0.0296,  0.0145,  0.0146, -0.0334]])), ('linear.bias', tensor([0.5129]))])\n",
            "OrderedDict([('linear.weight', tensor([[-0.0275, -0.0296,  0.0145,  0.0146, -0.0334]])), ('linear.bias', tensor([0.5129]))])\n",
            "OrderedDict([('linear.weight', tensor([[-0.0275, -0.0296,  0.0145,  0.0146, -0.0334]])), ('linear.bias', tensor([0.5129]))])\n",
            "OrderedDict([('linear.weight', tensor([[-0.0275, -0.0296,  0.0145,  0.0146, -0.0334]])), ('linear.bias', tensor([0.5129]))])\n",
            "OrderedDict([('linear.weight', tensor([[-0.0275, -0.0296,  0.0145,  0.0146, -0.0334]])), ('linear.bias', tensor([0.5129]))])\n",
            "OrderedDict([('linear.weight', tensor([[-0.0275, -0.0296,  0.0145,  0.0146, -0.0334]])), ('linear.bias', tensor([0.5129]))])\n",
            "OrderedDict([('linear.weight', tensor([[-0.0275, -0.0296,  0.0145,  0.0146, -0.0334]])), ('linear.bias', tensor([0.5129]))])\n",
            "Epoch : 90 | Loss : 0.08919437229633331\n",
            "OrderedDict([('linear.weight', tensor([[-0.0275, -0.0296,  0.0145,  0.0146, -0.0334]])), ('linear.bias', tensor([0.5129]))])\n",
            "OrderedDict([('linear.weight', tensor([[-0.0275, -0.0296,  0.0145,  0.0146, -0.0334]])), ('linear.bias', tensor([0.5129]))])\n",
            "OrderedDict([('linear.weight', tensor([[-0.0275, -0.0296,  0.0145,  0.0146, -0.0334]])), ('linear.bias', tensor([0.5129]))])\n",
            "OrderedDict([('linear.weight', tensor([[-0.0275, -0.0296,  0.0145,  0.0146, -0.0334]])), ('linear.bias', tensor([0.5129]))])\n",
            "OrderedDict([('linear.weight', tensor([[-0.0275, -0.0296,  0.0145,  0.0146, -0.0334]])), ('linear.bias', tensor([0.5129]))])\n",
            "OrderedDict([('linear.weight', tensor([[-0.0275, -0.0296,  0.0145,  0.0146, -0.0334]])), ('linear.bias', tensor([0.5129]))])\n",
            "OrderedDict([('linear.weight', tensor([[-0.0275, -0.0296,  0.0145,  0.0146, -0.0334]])), ('linear.bias', tensor([0.5129]))])\n",
            "OrderedDict([('linear.weight', tensor([[-0.0275, -0.0296,  0.0145,  0.0146, -0.0334]])), ('linear.bias', tensor([0.5129]))])\n",
            "OrderedDict([('linear.weight', tensor([[-0.0275, -0.0296,  0.0145,  0.0146, -0.0334]])), ('linear.bias', tensor([0.5129]))])\n",
            "OrderedDict([('linear.weight', tensor([[-0.0275, -0.0296,  0.0145,  0.0146, -0.0334]])), ('linear.bias', tensor([0.5129]))])\n",
            "Epoch : 100 | Loss : 0.08919437229633331\n",
            "OrderedDict([('linear.weight', tensor([[-0.0275, -0.0296,  0.0145,  0.0146, -0.0334]])), ('linear.bias', tensor([0.5129]))])\n",
            "OrderedDict([('linear.weight', tensor([[-0.0275, -0.0296,  0.0145,  0.0146, -0.0334]])), ('linear.bias', tensor([0.5129]))])\n",
            "OrderedDict([('linear.weight', tensor([[-0.0275, -0.0296,  0.0145,  0.0146, -0.0334]])), ('linear.bias', tensor([0.5129]))])\n",
            "OrderedDict([('linear.weight', tensor([[-0.0275, -0.0296,  0.0145,  0.0146, -0.0334]])), ('linear.bias', tensor([0.5129]))])\n",
            "OrderedDict([('linear.weight', tensor([[-0.0275, -0.0296,  0.0145,  0.0146, -0.0334]])), ('linear.bias', tensor([0.5129]))])\n",
            "OrderedDict([('linear.weight', tensor([[-0.0275, -0.0296,  0.0145,  0.0146, -0.0334]])), ('linear.bias', tensor([0.5129]))])\n",
            "OrderedDict([('linear.weight', tensor([[-0.0275, -0.0296,  0.0145,  0.0146, -0.0334]])), ('linear.bias', tensor([0.5129]))])\n",
            "OrderedDict([('linear.weight', tensor([[-0.0275, -0.0296,  0.0145,  0.0146, -0.0334]])), ('linear.bias', tensor([0.5129]))])\n",
            "OrderedDict([('linear.weight', tensor([[-0.0275, -0.0296,  0.0145,  0.0146, -0.0334]])), ('linear.bias', tensor([0.5129]))])\n",
            "OrderedDict([('linear.weight', tensor([[-0.0275, -0.0296,  0.0145,  0.0146, -0.0334]])), ('linear.bias', tensor([0.5129]))])\n",
            "Epoch : 110 | Loss : 0.08919437229633331\n",
            "OrderedDict([('linear.weight', tensor([[-0.0275, -0.0296,  0.0145,  0.0146, -0.0334]])), ('linear.bias', tensor([0.5129]))])\n",
            "OrderedDict([('linear.weight', tensor([[-0.0275, -0.0296,  0.0145,  0.0146, -0.0334]])), ('linear.bias', tensor([0.5129]))])\n",
            "OrderedDict([('linear.weight', tensor([[-0.0275, -0.0296,  0.0145,  0.0146, -0.0334]])), ('linear.bias', tensor([0.5129]))])\n",
            "OrderedDict([('linear.weight', tensor([[-0.0275, -0.0296,  0.0145,  0.0146, -0.0334]])), ('linear.bias', tensor([0.5129]))])\n",
            "OrderedDict([('linear.weight', tensor([[-0.0275, -0.0296,  0.0145,  0.0146, -0.0334]])), ('linear.bias', tensor([0.5129]))])\n",
            "OrderedDict([('linear.weight', tensor([[-0.0275, -0.0296,  0.0145,  0.0146, -0.0334]])), ('linear.bias', tensor([0.5129]))])\n",
            "OrderedDict([('linear.weight', tensor([[-0.0275, -0.0296,  0.0145,  0.0146, -0.0334]])), ('linear.bias', tensor([0.5129]))])\n",
            "OrderedDict([('linear.weight', tensor([[-0.0275, -0.0296,  0.0145,  0.0146, -0.0334]])), ('linear.bias', tensor([0.5129]))])\n",
            "OrderedDict([('linear.weight', tensor([[-0.0275, -0.0296,  0.0145,  0.0146, -0.0334]])), ('linear.bias', tensor([0.5129]))])\n",
            "OrderedDict([('linear.weight', tensor([[-0.0275, -0.0296,  0.0145,  0.0146, -0.0334]])), ('linear.bias', tensor([0.5129]))])\n",
            "Epoch : 120 | Loss : 0.08919437229633331\n",
            "OrderedDict([('linear.weight', tensor([[-0.0275, -0.0296,  0.0145,  0.0146, -0.0334]])), ('linear.bias', tensor([0.5129]))])\n",
            "OrderedDict([('linear.weight', tensor([[-0.0275, -0.0296,  0.0145,  0.0146, -0.0334]])), ('linear.bias', tensor([0.5129]))])\n",
            "OrderedDict([('linear.weight', tensor([[-0.0275, -0.0296,  0.0145,  0.0146, -0.0334]])), ('linear.bias', tensor([0.5129]))])\n",
            "OrderedDict([('linear.weight', tensor([[-0.0275, -0.0296,  0.0145,  0.0146, -0.0334]])), ('linear.bias', tensor([0.5129]))])\n",
            "OrderedDict([('linear.weight', tensor([[-0.0275, -0.0296,  0.0145,  0.0146, -0.0334]])), ('linear.bias', tensor([0.5129]))])\n",
            "OrderedDict([('linear.weight', tensor([[-0.0275, -0.0296,  0.0145,  0.0146, -0.0334]])), ('linear.bias', tensor([0.5129]))])\n",
            "OrderedDict([('linear.weight', tensor([[-0.0275, -0.0296,  0.0145,  0.0146, -0.0334]])), ('linear.bias', tensor([0.5129]))])\n",
            "OrderedDict([('linear.weight', tensor([[-0.0275, -0.0296,  0.0145,  0.0146, -0.0334]])), ('linear.bias', tensor([0.5129]))])\n",
            "OrderedDict([('linear.weight', tensor([[-0.0275, -0.0296,  0.0145,  0.0146, -0.0334]])), ('linear.bias', tensor([0.5129]))])\n",
            "OrderedDict([('linear.weight', tensor([[-0.0275, -0.0296,  0.0145,  0.0146, -0.0334]])), ('linear.bias', tensor([0.5129]))])\n",
            "Epoch : 130 | Loss : 0.08919437229633331\n",
            "OrderedDict([('linear.weight', tensor([[-0.0275, -0.0296,  0.0145,  0.0146, -0.0334]])), ('linear.bias', tensor([0.5129]))])\n",
            "OrderedDict([('linear.weight', tensor([[-0.0275, -0.0296,  0.0145,  0.0146, -0.0334]])), ('linear.bias', tensor([0.5129]))])\n",
            "OrderedDict([('linear.weight', tensor([[-0.0275, -0.0296,  0.0145,  0.0146, -0.0334]])), ('linear.bias', tensor([0.5129]))])\n",
            "OrderedDict([('linear.weight', tensor([[-0.0275, -0.0296,  0.0145,  0.0146, -0.0334]])), ('linear.bias', tensor([0.5129]))])\n",
            "OrderedDict([('linear.weight', tensor([[-0.0275, -0.0296,  0.0145,  0.0146, -0.0334]])), ('linear.bias', tensor([0.5129]))])\n",
            "OrderedDict([('linear.weight', tensor([[-0.0275, -0.0296,  0.0145,  0.0146, -0.0334]])), ('linear.bias', tensor([0.5129]))])\n",
            "OrderedDict([('linear.weight', tensor([[-0.0275, -0.0296,  0.0145,  0.0146, -0.0334]])), ('linear.bias', tensor([0.5129]))])\n",
            "OrderedDict([('linear.weight', tensor([[-0.0275, -0.0296,  0.0145,  0.0146, -0.0334]])), ('linear.bias', tensor([0.5129]))])\n",
            "OrderedDict([('linear.weight', tensor([[-0.0275, -0.0296,  0.0145,  0.0146, -0.0334]])), ('linear.bias', tensor([0.5129]))])\n",
            "OrderedDict([('linear.weight', tensor([[-0.0275, -0.0296,  0.0145,  0.0146, -0.0334]])), ('linear.bias', tensor([0.5129]))])\n",
            "Epoch : 140 | Loss : 0.08919437229633331\n",
            "OrderedDict([('linear.weight', tensor([[-0.0275, -0.0296,  0.0145,  0.0146, -0.0334]])), ('linear.bias', tensor([0.5129]))])\n",
            "OrderedDict([('linear.weight', tensor([[-0.0275, -0.0296,  0.0145,  0.0146, -0.0334]])), ('linear.bias', tensor([0.5129]))])\n",
            "OrderedDict([('linear.weight', tensor([[-0.0275, -0.0296,  0.0145,  0.0146, -0.0334]])), ('linear.bias', tensor([0.5129]))])\n",
            "OrderedDict([('linear.weight', tensor([[-0.0275, -0.0296,  0.0145,  0.0146, -0.0334]])), ('linear.bias', tensor([0.5129]))])\n",
            "OrderedDict([('linear.weight', tensor([[-0.0275, -0.0296,  0.0145,  0.0146, -0.0334]])), ('linear.bias', tensor([0.5129]))])\n",
            "OrderedDict([('linear.weight', tensor([[-0.0275, -0.0296,  0.0145,  0.0146, -0.0334]])), ('linear.bias', tensor([0.5129]))])\n",
            "OrderedDict([('linear.weight', tensor([[-0.0275, -0.0296,  0.0145,  0.0146, -0.0334]])), ('linear.bias', tensor([0.5129]))])\n",
            "OrderedDict([('linear.weight', tensor([[-0.0275, -0.0296,  0.0145,  0.0146, -0.0334]])), ('linear.bias', tensor([0.5129]))])\n",
            "OrderedDict([('linear.weight', tensor([[-0.0275, -0.0296,  0.0145,  0.0146, -0.0334]])), ('linear.bias', tensor([0.5129]))])\n",
            "OrderedDict([('linear.weight', tensor([[-0.0275, -0.0296,  0.0145,  0.0146, -0.0334]])), ('linear.bias', tensor([0.5129]))])\n",
            "Epoch : 150 | Loss : 0.08919437229633331\n",
            "OrderedDict([('linear.weight', tensor([[-0.0275, -0.0296,  0.0145,  0.0146, -0.0334]])), ('linear.bias', tensor([0.5129]))])\n",
            "OrderedDict([('linear.weight', tensor([[-0.0275, -0.0296,  0.0145,  0.0146, -0.0334]])), ('linear.bias', tensor([0.5129]))])\n",
            "OrderedDict([('linear.weight', tensor([[-0.0275, -0.0296,  0.0145,  0.0146, -0.0334]])), ('linear.bias', tensor([0.5129]))])\n",
            "OrderedDict([('linear.weight', tensor([[-0.0275, -0.0296,  0.0145,  0.0146, -0.0334]])), ('linear.bias', tensor([0.5129]))])\n",
            "OrderedDict([('linear.weight', tensor([[-0.0275, -0.0296,  0.0145,  0.0146, -0.0334]])), ('linear.bias', tensor([0.5129]))])\n",
            "OrderedDict([('linear.weight', tensor([[-0.0275, -0.0296,  0.0145,  0.0146, -0.0334]])), ('linear.bias', tensor([0.5129]))])\n",
            "OrderedDict([('linear.weight', tensor([[-0.0275, -0.0296,  0.0145,  0.0146, -0.0334]])), ('linear.bias', tensor([0.5129]))])\n",
            "OrderedDict([('linear.weight', tensor([[-0.0275, -0.0296,  0.0145,  0.0146, -0.0334]])), ('linear.bias', tensor([0.5129]))])\n",
            "OrderedDict([('linear.weight', tensor([[-0.0275, -0.0296,  0.0145,  0.0146, -0.0334]])), ('linear.bias', tensor([0.5129]))])\n",
            "OrderedDict([('linear.weight', tensor([[-0.0275, -0.0296,  0.0145,  0.0146, -0.0334]])), ('linear.bias', tensor([0.5129]))])\n",
            "Epoch : 160 | Loss : 0.08919437229633331\n",
            "OrderedDict([('linear.weight', tensor([[-0.0275, -0.0296,  0.0145,  0.0146, -0.0334]])), ('linear.bias', tensor([0.5129]))])\n",
            "OrderedDict([('linear.weight', tensor([[-0.0275, -0.0296,  0.0145,  0.0146, -0.0334]])), ('linear.bias', tensor([0.5129]))])\n",
            "OrderedDict([('linear.weight', tensor([[-0.0275, -0.0296,  0.0145,  0.0146, -0.0334]])), ('linear.bias', tensor([0.5129]))])\n",
            "OrderedDict([('linear.weight', tensor([[-0.0275, -0.0296,  0.0145,  0.0146, -0.0334]])), ('linear.bias', tensor([0.5129]))])\n",
            "OrderedDict([('linear.weight', tensor([[-0.0275, -0.0296,  0.0145,  0.0146, -0.0334]])), ('linear.bias', tensor([0.5129]))])\n",
            "OrderedDict([('linear.weight', tensor([[-0.0275, -0.0296,  0.0145,  0.0146, -0.0334]])), ('linear.bias', tensor([0.5129]))])\n",
            "OrderedDict([('linear.weight', tensor([[-0.0275, -0.0296,  0.0145,  0.0146, -0.0334]])), ('linear.bias', tensor([0.5129]))])\n",
            "OrderedDict([('linear.weight', tensor([[-0.0275, -0.0296,  0.0145,  0.0146, -0.0334]])), ('linear.bias', tensor([0.5129]))])\n",
            "OrderedDict([('linear.weight', tensor([[-0.0275, -0.0296,  0.0145,  0.0146, -0.0334]])), ('linear.bias', tensor([0.5129]))])\n",
            "OrderedDict([('linear.weight', tensor([[-0.0275, -0.0296,  0.0145,  0.0146, -0.0334]])), ('linear.bias', tensor([0.5129]))])\n",
            "Epoch : 170 | Loss : 0.08919437229633331\n",
            "OrderedDict([('linear.weight', tensor([[-0.0275, -0.0296,  0.0145,  0.0146, -0.0334]])), ('linear.bias', tensor([0.5129]))])\n",
            "OrderedDict([('linear.weight', tensor([[-0.0275, -0.0296,  0.0145,  0.0146, -0.0334]])), ('linear.bias', tensor([0.5129]))])\n",
            "OrderedDict([('linear.weight', tensor([[-0.0275, -0.0296,  0.0145,  0.0146, -0.0334]])), ('linear.bias', tensor([0.5129]))])\n",
            "OrderedDict([('linear.weight', tensor([[-0.0275, -0.0296,  0.0145,  0.0146, -0.0334]])), ('linear.bias', tensor([0.5129]))])\n",
            "OrderedDict([('linear.weight', tensor([[-0.0275, -0.0296,  0.0145,  0.0146, -0.0334]])), ('linear.bias', tensor([0.5129]))])\n",
            "OrderedDict([('linear.weight', tensor([[-0.0275, -0.0296,  0.0145,  0.0146, -0.0334]])), ('linear.bias', tensor([0.5129]))])\n",
            "OrderedDict([('linear.weight', tensor([[-0.0275, -0.0296,  0.0145,  0.0146, -0.0334]])), ('linear.bias', tensor([0.5129]))])\n",
            "OrderedDict([('linear.weight', tensor([[-0.0275, -0.0296,  0.0145,  0.0146, -0.0334]])), ('linear.bias', tensor([0.5129]))])\n",
            "OrderedDict([('linear.weight', tensor([[-0.0275, -0.0296,  0.0145,  0.0146, -0.0334]])), ('linear.bias', tensor([0.5129]))])\n",
            "OrderedDict([('linear.weight', tensor([[-0.0275, -0.0296,  0.0145,  0.0146, -0.0334]])), ('linear.bias', tensor([0.5129]))])\n",
            "Epoch : 180 | Loss : 0.08919437229633331\n",
            "OrderedDict([('linear.weight', tensor([[-0.0275, -0.0296,  0.0145,  0.0146, -0.0334]])), ('linear.bias', tensor([0.5129]))])\n",
            "OrderedDict([('linear.weight', tensor([[-0.0275, -0.0296,  0.0145,  0.0146, -0.0334]])), ('linear.bias', tensor([0.5129]))])\n",
            "OrderedDict([('linear.weight', tensor([[-0.0275, -0.0296,  0.0145,  0.0146, -0.0334]])), ('linear.bias', tensor([0.5129]))])\n",
            "OrderedDict([('linear.weight', tensor([[-0.0275, -0.0296,  0.0145,  0.0146, -0.0334]])), ('linear.bias', tensor([0.5129]))])\n",
            "OrderedDict([('linear.weight', tensor([[-0.0275, -0.0296,  0.0145,  0.0146, -0.0334]])), ('linear.bias', tensor([0.5129]))])\n",
            "OrderedDict([('linear.weight', tensor([[-0.0275, -0.0296,  0.0145,  0.0146, -0.0334]])), ('linear.bias', tensor([0.5129]))])\n",
            "OrderedDict([('linear.weight', tensor([[-0.0275, -0.0296,  0.0145,  0.0146, -0.0334]])), ('linear.bias', tensor([0.5129]))])\n",
            "OrderedDict([('linear.weight', tensor([[-0.0275, -0.0296,  0.0145,  0.0146, -0.0334]])), ('linear.bias', tensor([0.5129]))])\n",
            "OrderedDict([('linear.weight', tensor([[-0.0275, -0.0296,  0.0145,  0.0146, -0.0334]])), ('linear.bias', tensor([0.5129]))])\n",
            "OrderedDict([('linear.weight', tensor([[-0.0275, -0.0296,  0.0145,  0.0146, -0.0334]])), ('linear.bias', tensor([0.5129]))])\n",
            "Epoch : 190 | Loss : 0.08919437229633331\n",
            "OrderedDict([('linear.weight', tensor([[-0.0275, -0.0296,  0.0145,  0.0146, -0.0334]])), ('linear.bias', tensor([0.5129]))])\n",
            "OrderedDict([('linear.weight', tensor([[-0.0275, -0.0296,  0.0145,  0.0146, -0.0334]])), ('linear.bias', tensor([0.5129]))])\n",
            "OrderedDict([('linear.weight', tensor([[-0.0275, -0.0296,  0.0145,  0.0146, -0.0334]])), ('linear.bias', tensor([0.5129]))])\n",
            "OrderedDict([('linear.weight', tensor([[-0.0275, -0.0296,  0.0145,  0.0146, -0.0334]])), ('linear.bias', tensor([0.5129]))])\n",
            "OrderedDict([('linear.weight', tensor([[-0.0275, -0.0296,  0.0145,  0.0146, -0.0334]])), ('linear.bias', tensor([0.5129]))])\n",
            "OrderedDict([('linear.weight', tensor([[-0.0275, -0.0296,  0.0145,  0.0146, -0.0334]])), ('linear.bias', tensor([0.5129]))])\n",
            "OrderedDict([('linear.weight', tensor([[-0.0275, -0.0296,  0.0145,  0.0146, -0.0334]])), ('linear.bias', tensor([0.5129]))])\n",
            "OrderedDict([('linear.weight', tensor([[-0.0275, -0.0296,  0.0145,  0.0146, -0.0334]])), ('linear.bias', tensor([0.5129]))])\n",
            "OrderedDict([('linear.weight', tensor([[-0.0275, -0.0296,  0.0145,  0.0146, -0.0334]])), ('linear.bias', tensor([0.5129]))])\n",
            "OrderedDict([('linear.weight', tensor([[-0.0275, -0.0296,  0.0145,  0.0146, -0.0334]])), ('linear.bias', tensor([0.5129]))])\n"
          ]
        }
      ]
    },
    {
      "cell_type": "code",
      "source": [
        "model_3.state_dict()"
      ],
      "metadata": {
        "id": "-kkiEJXIsv2O",
        "colab": {
          "base_uri": "https://localhost:8080/"
        },
        "outputId": "b69134d1-1d46-4bc3-c193-128dfa61b875"
      },
      "execution_count": null,
      "outputs": [
        {
          "output_type": "execute_result",
          "data": {
            "text/plain": [
              "OrderedDict([('linear.weight',\n",
              "              tensor([[-0.0275, -0.0296,  0.0145,  0.0146, -0.0334]])),\n",
              "             ('linear.bias', tensor([0.5129]))])"
            ]
          },
          "metadata": {},
          "execution_count": 25
        }
      ]
    },
    {
      "cell_type": "code",
      "source": [
        "# saving a NN model"
      ],
      "metadata": {
        "id": "mQM9t3XLsvz6"
      },
      "execution_count": null,
      "outputs": []
    },
    {
      "cell_type": "code",
      "source": [
        "# three main mrthods you shoul know about saving and loadind a model in pytorch"
      ],
      "metadata": {
        "id": "ikU0UYD8nB9W"
      },
      "execution_count": null,
      "outputs": []
    },
    {
      "cell_type": "code",
      "source": [
        "# 1. pytorch.save()"
      ],
      "metadata": {
        "id": "xcnc4kqFnMFW"
      },
      "execution_count": null,
      "outputs": []
    },
    {
      "cell_type": "code",
      "source": [
        "# 2. torch.load() allows you to load saved model"
      ],
      "metadata": {
        "id": "bLNEP1NunPl7"
      },
      "execution_count": null,
      "outputs": []
    },
    {
      "cell_type": "code",
      "source": [
        "model_3.state_dict() # a dictionary which holds the state of our model"
      ],
      "metadata": {
        "colab": {
          "base_uri": "https://localhost:8080/"
        },
        "id": "XrwApjhdncPK",
        "outputId": "a24882a3-4fbf-411f-d817-59f7fb500a42"
      },
      "execution_count": null,
      "outputs": [
        {
          "output_type": "execute_result",
          "data": {
            "text/plain": [
              "OrderedDict([('linear.weight',\n",
              "              tensor([[-0.0275, -0.0296,  0.0145,  0.0146, -0.0334]])),\n",
              "             ('linear.bias', tensor([0.5129]))])"
            ]
          },
          "metadata": {},
          "execution_count": 27
        }
      ]
    },
    {
      "cell_type": "code",
      "source": [
        " # saving pytorch model"
      ],
      "metadata": {
        "id": "VZ2FkVt6nkp2"
      },
      "execution_count": null,
      "outputs": []
    },
    {
      "cell_type": "code",
      "source": [
        " # Create models path directort"
      ],
      "metadata": {
        "id": "iBzFwoMloP0H"
      },
      "execution_count": null,
      "outputs": []
    },
    {
      "cell_type": "code",
      "source": [
        "MODEL_PATH =Path(\"models\")"
      ],
      "metadata": {
        "id": "aFqUzRC_pChl"
      },
      "execution_count": null,
      "outputs": []
    },
    {
      "cell_type": "code",
      "source": [
        "MODEL_PATH.mkdir(parents = True , exist_ok = True)"
      ],
      "metadata": {
        "id": "zc6FVqzApQ0A"
      },
      "execution_count": null,
      "outputs": []
    },
    {
      "cell_type": "code",
      "source": [
        "MODEL_NAME = \" 01_pytorch_workflow_model_0.pth\""
      ],
      "metadata": {
        "id": "MGzpKaX1pf2p"
      },
      "execution_count": null,
      "outputs": []
    },
    {
      "cell_type": "code",
      "source": [
        "MODEL_SAVE_PATH = MODEL_PATH /MODEL_NAME"
      ],
      "metadata": {
        "id": "Xbs_3hE3ptmS"
      },
      "execution_count": null,
      "outputs": []
    },
    {
      "cell_type": "code",
      "source": [
        "print(f\"Saving model to \", {MODEL_SAVE_PATH})"
      ],
      "metadata": {
        "colab": {
          "base_uri": "https://localhost:8080/"
        },
        "id": "XiQlLit8p6ML",
        "outputId": "2ce103db-9c09-4306-f438-9de8f1724540"
      },
      "execution_count": null,
      "outputs": [
        {
          "output_type": "stream",
          "name": "stdout",
          "text": [
            "Saving model to  {PosixPath('ssss/ 01_pytorch_workflow_model_0.pth')}\n"
          ]
        }
      ]
    },
    {
      "cell_type": "code",
      "source": [
        "torch.save(obj=model_3.state_dict(),f=MODEL_SAVE_PATH)"
      ],
      "metadata": {
        "id": "jrnr6T46p9dw"
      },
      "execution_count": null,
      "outputs": []
    },
    {
      "cell_type": "code",
      "source": [
        "# LOADING A PYTORCH MODEL"
      ],
      "metadata": {
        "id": "odnpIddrushH"
      },
      "execution_count": null,
      "outputs": []
    },
    {
      "cell_type": "code",
      "source": [],
      "metadata": {
        "id": "LsF8fY9HuuyI"
      },
      "execution_count": null,
      "outputs": []
    }
  ]
}