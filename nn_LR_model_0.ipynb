{
  "nbformat": 4,
  "nbformat_minor": 0,
  "metadata": {
    "colab": {
      "provenance": [],
      "gpuType": "T4",
      "authorship_tag": "ABX9TyMsGjLPwYK9KANJk3fvk40T",
      "include_colab_link": true
    },
    "kernelspec": {
      "name": "python3",
      "display_name": "Python 3"
    },
    "language_info": {
      "name": "python"
    },
    "accelerator": "GPU"
  },
  "cells": [
    {
      "cell_type": "markdown",
      "metadata": {
        "id": "view-in-github",
        "colab_type": "text"
      },
      "source": [
        "<a href=\"https://colab.research.google.com/github/kingamirasadi/Python-Pytorch-sklearn/blob/main/nn_LR_model_0.ipynb\" target=\"_parent\"><img src=\"https://colab.research.google.com/assets/colab-badge.svg\" alt=\"Open In Colab\"/></a>"
      ]
    },
    {
      "cell_type": "code",
      "source": [
        "import torch\n",
        "from  sklearn.model_selection import train_test_split\n",
        "import torch.nn as nn"
      ],
      "metadata": {
        "id": "4uK9UIlY42Ab"
      },
      "execution_count": 117,
      "outputs": []
    },
    {
      "cell_type": "code",
      "source": [
        "# Create Data"
      ],
      "metadata": {
        "id": "OOuAUvPX5VBm"
      },
      "execution_count": 118,
      "outputs": []
    },
    {
      "cell_type": "code",
      "source": [
        "torch.manual_seed(42)\n",
        "X = torch.randn(10)"
      ],
      "metadata": {
        "id": "JgFgZGo86pIz"
      },
      "execution_count": 119,
      "outputs": []
    },
    {
      "cell_type": "code",
      "source": [
        "X = torch.unsqueeze(X, dim= 1)"
      ],
      "metadata": {
        "id": "0-JeLyAb6yJO"
      },
      "execution_count": 120,
      "outputs": []
    },
    {
      "cell_type": "code",
      "source": [
        "weight = 0.7\n",
        "bias = 0.1"
      ],
      "metadata": {
        "id": "ociIjYt-6zDF"
      },
      "execution_count": 121,
      "outputs": []
    },
    {
      "cell_type": "code",
      "source": [
        "y = weight * X + bias"
      ],
      "metadata": {
        "id": "itTbYsIo65wA"
      },
      "execution_count": 122,
      "outputs": []
    },
    {
      "cell_type": "code",
      "source": [
        "y.shape"
      ],
      "metadata": {
        "colab": {
          "base_uri": "https://localhost:8080/"
        },
        "id": "dNRGgGrq7FUe",
        "outputId": "bd90e58f-fcf5-4571-caa9-f76bc6fb708c"
      },
      "execution_count": 123,
      "outputs": [
        {
          "output_type": "execute_result",
          "data": {
            "text/plain": [
              "torch.Size([10, 1])"
            ]
          },
          "metadata": {},
          "execution_count": 123
        }
      ]
    },
    {
      "cell_type": "code",
      "source": [
        "X_train, X_test, y_train, y_test = train_test_split(X, y, test_size=0.2, random_state=42)"
      ],
      "metadata": {
        "id": "Uk6hoAbl7HFm"
      },
      "execution_count": 124,
      "outputs": []
    },
    {
      "cell_type": "code",
      "source": [
        "# build Model"
      ],
      "metadata": {
        "id": "D3k0GyR3ABDj"
      },
      "execution_count": 125,
      "outputs": []
    },
    {
      "cell_type": "code",
      "source": [
        "class LR (nn.Module):\n",
        "  def __init__(self) -> None:\n",
        "    super().__init__()\n",
        "    self.w = nn.Parameter(torch.randn(1,requires_grad=True , dtype=float))\n",
        "    self.b = nn.Parameter(torch.randn(1,requires_grad=True,dtype=float))\n",
        "  def forward (self , x):\n",
        "      return self.w * x + self.b"
      ],
      "metadata": {
        "id": "VYbtcnsKAHIO"
      },
      "execution_count": 126,
      "outputs": []
    },
    {
      "cell_type": "code",
      "source": [
        "torch.manual_seed(42)\n",
        "model_0  = LR()"
      ],
      "metadata": {
        "id": "uJ2rPJ5nCQm_"
      },
      "execution_count": 127,
      "outputs": []
    },
    {
      "cell_type": "code",
      "source": [
        "# training model is to move from some unknown parameter to  some known parameters"
      ],
      "metadata": {
        "id": "VnlPpDtHD7PL"
      },
      "execution_count": 128,
      "outputs": []
    },
    {
      "cell_type": "code",
      "source": [
        "# one way to measure how well or poor your model predicts is to use a loss function"
      ],
      "metadata": {
        "id": "B2LVqSnIHz1t"
      },
      "execution_count": 129,
      "outputs": []
    },
    {
      "cell_type": "code",
      "source": [
        "# lost function\n",
        "# cost function\n",
        "# is a criterion to measure how well our model predicts\n",
        "# MAE is one of the most wellknown cost function (mean absoulote error)\n",
        "# lower is better"
      ],
      "metadata": {
        "id": "RGS2-vEXITEL"
      },
      "execution_count": 130,
      "outputs": []
    },
    {
      "cell_type": "code",
      "source": [
        "# things we need to train\n",
        "# 1 loss function\n",
        "# 2 optimizer (adjusts the model parameters to achieve better prediction ) or improve the lost function\n",
        "# 3 training loop\n",
        "# 4 testing loop"
      ],
      "metadata": {
        "id": "8kCTTCcuIu7z"
      },
      "execution_count": 131,
      "outputs": []
    },
    {
      "cell_type": "code",
      "source": [
        "# is used to represents the model parameters\n",
        "model_0.state_dict()"
      ],
      "metadata": {
        "colab": {
          "base_uri": "https://localhost:8080/"
        },
        "id": "yhpzOqIaJIua",
        "outputId": "781fbb79-2ce8-4d89-cd01-fab507c1a994"
      },
      "execution_count": 132,
      "outputs": [
        {
          "output_type": "execute_result",
          "data": {
            "text/plain": [
              "OrderedDict([('w', tensor([0.3367], dtype=torch.float64)),\n",
              "             ('b', tensor([0.1288], dtype=torch.float64))])"
            ]
          },
          "metadata": {},
          "execution_count": 132
        }
      ]
    },
    {
      "cell_type": "code",
      "source": [
        "# Setting up Loss function and Optimizer\n",
        "# we want to minimize the lost function"
      ],
      "metadata": {
        "id": "fQS4s7EWJuSU"
      },
      "execution_count": 133,
      "outputs": []
    },
    {
      "cell_type": "code",
      "source": [
        "# pytorch has many built in lost functions and optimizer"
      ],
      "metadata": {
        "id": "NbVtXQCjKATV"
      },
      "execution_count": 134,
      "outputs": []
    },
    {
      "cell_type": "code",
      "source": [
        "#set up a lost function"
      ],
      "metadata": {
        "id": "Oxv0rG17K3gD"
      },
      "execution_count": 135,
      "outputs": []
    },
    {
      "cell_type": "code",
      "source": [
        "loss_fn = nn.L1Loss()"
      ],
      "metadata": {
        "id": "F9lY3OMxG5r-"
      },
      "execution_count": 136,
      "outputs": []
    },
    {
      "cell_type": "code",
      "source": [
        "#set up an Optimizer\n",
        "#the most wellknown and main algorthms for optimizing is Gradient Decsent"
      ],
      "metadata": {
        "id": "UXksbqoGIAl1"
      },
      "execution_count": 137,
      "outputs": []
    },
    {
      "cell_type": "code",
      "source": [
        "optimizer = torch.optim.SGD(params=model_0.parameters(),lr=0.01)"
      ],
      "metadata": {
        "id": "nl0hP0o_IFp7"
      },
      "execution_count": 138,
      "outputs": []
    },
    {
      "cell_type": "code",
      "source": [
        "# the goal of optimizer is to lower the lost function"
      ],
      "metadata": {
        "id": "9JuzBKjpM-Uh"
      },
      "execution_count": 139,
      "outputs": []
    },
    {
      "cell_type": "code",
      "source": [
        "# building a training loop"
      ],
      "metadata": {
        "id": "TXiuMr2AND5q"
      },
      "execution_count": 140,
      "outputs": []
    },
    {
      "cell_type": "code",
      "source": [
        "# loop through the data\n",
        "# Forward pass"
      ],
      "metadata": {
        "id": "Si8j9WJoNmdp"
      },
      "execution_count": 141,
      "outputs": []
    },
    {
      "cell_type": "code",
      "source": [
        "# An epoch is one loop through the data..."
      ],
      "metadata": {
        "id": "FAtn2k1iO9aU"
      },
      "execution_count": 142,
      "outputs": []
    },
    {
      "cell_type": "code",
      "source": [
        "epochs = 1000\n",
        "for epoch in range(epochs):\n",
        "  # 6 major steps of training\n",
        "  # 1.set the model\n",
        "  model_0.train()\n",
        "  # 2.forward Pass\n",
        "  y_pred =  model_0(X_train)\n",
        "  # 3.calculate the loss\n",
        "  loss = loss_fn(y_pred,y_train) # first prediction and second true value\n",
        "  # 4.Optimizer Zero Grad\n",
        "  optimizer.zero_grad()\n",
        "  # 5.Perform BackPropagation\n",
        "  loss.backward()\n",
        "  # 6.set up Optimizer\n",
        "  optimizer.step()"
      ],
      "metadata": {
        "id": "UgD_ksF4PCoe"
      },
      "execution_count": 143,
      "outputs": []
    },
    {
      "cell_type": "code",
      "source": [
        "model_0.state_dict()"
      ],
      "metadata": {
        "id": "lhHGmuOX5uy3",
        "colab": {
          "base_uri": "https://localhost:8080/"
        },
        "outputId": "27e14ad1-2647-4908-a007-224cfeee7e72"
      },
      "execution_count": 144,
      "outputs": [
        {
          "output_type": "execute_result",
          "data": {
            "text/plain": [
              "OrderedDict([('w', tensor([0.7011], dtype=torch.float64)),\n",
              "             ('b', tensor([0.1063], dtype=torch.float64))])"
            ]
          },
          "metadata": {},
          "execution_count": 144
        }
      ]
    }
  ]
}