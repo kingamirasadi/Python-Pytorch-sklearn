{
  "nbformat": 4,
  "nbformat_minor": 0,
  "metadata": {
    "colab": {
      "provenance": [],
      "gpuType": "T4",
      "authorship_tag": "ABX9TyO3MOd7QzX6jI0bggaVBOrk",
      "include_colab_link": true
    },
    "kernelspec": {
      "name": "python3",
      "display_name": "Python 3"
    },
    "language_info": {
      "name": "python"
    },
    "accelerator": "GPU"
  },
  "cells": [
    {
      "cell_type": "markdown",
      "metadata": {
        "id": "view-in-github",
        "colab_type": "text"
      },
      "source": [
        "<a href=\"https://colab.research.google.com/github/kingamirasadi/Python-Pytorch-sklearn/blob/main/nn_LR_model_0.ipynb\" target=\"_parent\"><img src=\"https://colab.research.google.com/assets/colab-badge.svg\" alt=\"Open In Colab\"/></a>"
      ]
    },
    {
      "cell_type": "code",
      "source": [
        "import torch\n",
        "from  sklearn.model_selection import train_test_split\n",
        "import torch.nn as nn"
      ],
      "metadata": {
        "id": "4uK9UIlY42Ab"
      },
      "execution_count": 172,
      "outputs": []
    },
    {
      "cell_type": "code",
      "source": [
        "# Create Data"
      ],
      "metadata": {
        "id": "OOuAUvPX5VBm"
      },
      "execution_count": 173,
      "outputs": []
    },
    {
      "cell_type": "code",
      "source": [
        "torch.manual_seed(42)\n",
        "X = torch.randn(10)"
      ],
      "metadata": {
        "id": "JgFgZGo86pIz"
      },
      "execution_count": 174,
      "outputs": []
    },
    {
      "cell_type": "code",
      "source": [
        "X = torch.unsqueeze(X, dim= 1)"
      ],
      "metadata": {
        "id": "0-JeLyAb6yJO"
      },
      "execution_count": 175,
      "outputs": []
    },
    {
      "cell_type": "code",
      "source": [
        "weight = 0.7\n",
        "bias = 0.1"
      ],
      "metadata": {
        "id": "ociIjYt-6zDF"
      },
      "execution_count": 176,
      "outputs": []
    },
    {
      "cell_type": "code",
      "source": [
        "y = weight * X + bias"
      ],
      "metadata": {
        "id": "itTbYsIo65wA"
      },
      "execution_count": 177,
      "outputs": []
    },
    {
      "cell_type": "code",
      "source": [
        "y.shape"
      ],
      "metadata": {
        "colab": {
          "base_uri": "https://localhost:8080/"
        },
        "id": "dNRGgGrq7FUe",
        "outputId": "7b00a47d-19e2-4509-e73f-6a2d95f79172"
      },
      "execution_count": 178,
      "outputs": [
        {
          "output_type": "execute_result",
          "data": {
            "text/plain": [
              "torch.Size([10, 1])"
            ]
          },
          "metadata": {},
          "execution_count": 178
        }
      ]
    },
    {
      "cell_type": "code",
      "source": [
        "X_train, X_test, y_train, y_test = train_test_split(X, y, test_size=0.2, random_state=42)"
      ],
      "metadata": {
        "id": "Uk6hoAbl7HFm"
      },
      "execution_count": 179,
      "outputs": []
    },
    {
      "cell_type": "code",
      "source": [
        "# build Model"
      ],
      "metadata": {
        "id": "D3k0GyR3ABDj"
      },
      "execution_count": 180,
      "outputs": []
    },
    {
      "cell_type": "code",
      "source": [
        "class LR (nn.Module):\n",
        "  def __init__(self) -> None:\n",
        "    super().__init__()\n",
        "    self.w = nn.Parameter(torch.randn(1,requires_grad=True , dtype=float))\n",
        "    self.b = nn.Parameter(torch.randn(1,requires_grad=True,dtype=float))\n",
        "  def forward (self , x):\n",
        "      return self.w * x + self.b"
      ],
      "metadata": {
        "id": "VYbtcnsKAHIO"
      },
      "execution_count": 181,
      "outputs": []
    },
    {
      "cell_type": "code",
      "source": [
        "torch.manual_seed(42)\n",
        "model_0  = LR()"
      ],
      "metadata": {
        "id": "uJ2rPJ5nCQm_"
      },
      "execution_count": 182,
      "outputs": []
    },
    {
      "cell_type": "code",
      "source": [
        "# training model is to move from some unknown parameter to  some known parameters"
      ],
      "metadata": {
        "id": "VnlPpDtHD7PL"
      },
      "execution_count": 183,
      "outputs": []
    },
    {
      "cell_type": "code",
      "source": [
        "# one way to measure how well or poor your model predicts is to use a loss function"
      ],
      "metadata": {
        "id": "B2LVqSnIHz1t"
      },
      "execution_count": 184,
      "outputs": []
    },
    {
      "cell_type": "code",
      "source": [
        "# lost function\n",
        "# cost function\n",
        "# is a criterion to measure how well our model predicts\n",
        "# MAE is one of the most wellknown cost function (mean absoulote error)\n",
        "# lower is better"
      ],
      "metadata": {
        "id": "RGS2-vEXITEL"
      },
      "execution_count": 185,
      "outputs": []
    },
    {
      "cell_type": "code",
      "source": [
        "# things we need to train\n",
        "# 1 loss function\n",
        "# 2 optimizer (adjusts the model parameters to achieve better prediction ) or improve the lost function\n",
        "# 3 training loop\n",
        "# 4 testing loop"
      ],
      "metadata": {
        "id": "8kCTTCcuIu7z"
      },
      "execution_count": 186,
      "outputs": []
    },
    {
      "cell_type": "code",
      "source": [
        "# is used to represents the model parameters\n",
        "model_0.state_dict()"
      ],
      "metadata": {
        "colab": {
          "base_uri": "https://localhost:8080/"
        },
        "id": "yhpzOqIaJIua",
        "outputId": "860c1888-f1c7-4a26-84da-8709ae96827d"
      },
      "execution_count": 187,
      "outputs": [
        {
          "output_type": "execute_result",
          "data": {
            "text/plain": [
              "OrderedDict([('w', tensor([0.3367], dtype=torch.float64)),\n",
              "             ('b', tensor([0.1288], dtype=torch.float64))])"
            ]
          },
          "metadata": {},
          "execution_count": 187
        }
      ]
    },
    {
      "cell_type": "code",
      "source": [
        "# Setting up Loss function and Optimizer\n",
        "# we want to minimize the lost function"
      ],
      "metadata": {
        "id": "fQS4s7EWJuSU"
      },
      "execution_count": 188,
      "outputs": []
    },
    {
      "cell_type": "code",
      "source": [
        "# pytorch has many built in lost functions and optimizer"
      ],
      "metadata": {
        "id": "NbVtXQCjKATV"
      },
      "execution_count": 189,
      "outputs": []
    },
    {
      "cell_type": "code",
      "source": [
        "#set up a lost function"
      ],
      "metadata": {
        "id": "Oxv0rG17K3gD"
      },
      "execution_count": 190,
      "outputs": []
    },
    {
      "cell_type": "code",
      "source": [
        "loss_fn = nn.L1Loss()"
      ],
      "metadata": {
        "id": "F9lY3OMxG5r-"
      },
      "execution_count": 191,
      "outputs": []
    },
    {
      "cell_type": "code",
      "source": [
        "#set up an Optimizer\n",
        "#the most wellknown and main algorthms for optimizing is Gradient Decsent"
      ],
      "metadata": {
        "id": "UXksbqoGIAl1"
      },
      "execution_count": 192,
      "outputs": []
    },
    {
      "cell_type": "code",
      "source": [
        "optimizer = torch.optim.SGD(params=model_0.parameters(),lr=0.01)"
      ],
      "metadata": {
        "id": "nl0hP0o_IFp7"
      },
      "execution_count": 193,
      "outputs": []
    },
    {
      "cell_type": "code",
      "source": [
        "# the goal of optimizer is to lower the lost function"
      ],
      "metadata": {
        "id": "9JuzBKjpM-Uh"
      },
      "execution_count": 194,
      "outputs": []
    },
    {
      "cell_type": "code",
      "source": [
        "# building a training loop"
      ],
      "metadata": {
        "id": "TXiuMr2AND5q"
      },
      "execution_count": 195,
      "outputs": []
    },
    {
      "cell_type": "code",
      "source": [
        "# loop through the data\n",
        "# Forward pass"
      ],
      "metadata": {
        "id": "Si8j9WJoNmdp"
      },
      "execution_count": 196,
      "outputs": []
    },
    {
      "cell_type": "code",
      "source": [
        "# An epoch is one loop through the data..."
      ],
      "metadata": {
        "id": "FAtn2k1iO9aU"
      },
      "execution_count": 197,
      "outputs": []
    },
    {
      "cell_type": "code",
      "source": [
        "epochs = 100\n",
        "for epoch in range(epochs):\n",
        "  # 6 major steps of training\n",
        "  # 1.set the model\n",
        "  model_0.train()\n",
        "  # 2.forward Pass\n",
        "  y_pred =  model_0(X_train)\n",
        "  # 3.calculate the loss\n",
        "  loss = loss_fn(y_pred,y_train) # first prediction and second true value\n",
        "  # 4.Optimizer Zero Grad\n",
        "  optimizer.zero_grad()\n",
        "  # 5.Perform BackPropagation\n",
        "  loss.backward()\n",
        "  # 6.set up Optimizer\n",
        "  optimizer.step()\n",
        "  ### TESTiNG the unseen DATA , is a fundamental step in pytorch\n",
        "  model_0.eval()\n",
        "  with torch.inference_mode():\n",
        "    # 1. Do the forward pass\n",
        "    test_pred = model_0(X_test)\n",
        "\n",
        "\n",
        "    # 2. Calculate the test loss\n",
        "\n",
        "    test_loss = loss_fn(test_pred,y_test)\n",
        "  if epoch % 10 == 0 :\n",
        "    print(f\"Epoch : {epoch} | Loss : {test_loss}\")\n",
        "  print(model_0.state_dict())\n"
      ],
      "metadata": {
        "id": "UgD_ksF4PCoe",
        "colab": {
          "base_uri": "https://localhost:8080/"
        },
        "outputId": "20717452-4744-4d9b-817c-868fcaa6f98a"
      },
      "execution_count": 198,
      "outputs": [
        {
          "output_type": "stream",
          "name": "stdout",
          "text": [
            "Epoch : 0 | Loss : 0.07402374964300601\n",
            "OrderedDict([('w', tensor([0.3432], dtype=torch.float64)), ('b', tensor([0.1313], dtype=torch.float64))])\n",
            "OrderedDict([('w', tensor([0.3498], dtype=torch.float64)), ('b', tensor([0.1338], dtype=torch.float64))])\n",
            "OrderedDict([('w', tensor([0.3563], dtype=torch.float64)), ('b', tensor([0.1363], dtype=torch.float64))])\n",
            "OrderedDict([('w', tensor([0.3628], dtype=torch.float64)), ('b', tensor([0.1388], dtype=torch.float64))])\n",
            "OrderedDict([('w', tensor([0.3693], dtype=torch.float64)), ('b', tensor([0.1413], dtype=torch.float64))])\n",
            "OrderedDict([('w', tensor([0.3759], dtype=torch.float64)), ('b', tensor([0.1438], dtype=torch.float64))])\n",
            "OrderedDict([('w', tensor([0.3824], dtype=torch.float64)), ('b', tensor([0.1463], dtype=torch.float64))])\n",
            "OrderedDict([('w', tensor([0.3889], dtype=torch.float64)), ('b', tensor([0.1488], dtype=torch.float64))])\n",
            "OrderedDict([('w', tensor([0.3955], dtype=torch.float64)), ('b', tensor([0.1513], dtype=torch.float64))])\n",
            "OrderedDict([('w', tensor([0.4020], dtype=torch.float64)), ('b', tensor([0.1538], dtype=torch.float64))])\n",
            "Epoch : 10 | Loss : 0.048508669568166796\n",
            "OrderedDict([('w', tensor([0.4085], dtype=torch.float64)), ('b', tensor([0.1563], dtype=torch.float64))])\n",
            "OrderedDict([('w', tensor([0.4151], dtype=torch.float64)), ('b', tensor([0.1588], dtype=torch.float64))])\n",
            "OrderedDict([('w', tensor([0.4216], dtype=torch.float64)), ('b', tensor([0.1613], dtype=torch.float64))])\n",
            "OrderedDict([('w', tensor([0.4281], dtype=torch.float64)), ('b', tensor([0.1638], dtype=torch.float64))])\n",
            "OrderedDict([('w', tensor([0.4335], dtype=torch.float64)), ('b', tensor([0.1613], dtype=torch.float64))])\n",
            "OrderedDict([('w', tensor([0.4400], dtype=torch.float64)), ('b', tensor([0.1638], dtype=torch.float64))])\n",
            "OrderedDict([('w', tensor([0.4454], dtype=torch.float64)), ('b', tensor([0.1613], dtype=torch.float64))])\n",
            "OrderedDict([('w', tensor([0.4507], dtype=torch.float64)), ('b', tensor([0.1588], dtype=torch.float64))])\n",
            "OrderedDict([('w', tensor([0.4561], dtype=torch.float64)), ('b', tensor([0.1563], dtype=torch.float64))])\n",
            "OrderedDict([('w', tensor([0.4621], dtype=torch.float64)), ('b', tensor([0.1563], dtype=torch.float64))])\n",
            "Epoch : 20 | Loss : 0.038703476775386075\n",
            "OrderedDict([('w', tensor([0.4674], dtype=torch.float64)), ('b', tensor([0.1538], dtype=torch.float64))])\n",
            "OrderedDict([('w', tensor([0.4734], dtype=torch.float64)), ('b', tensor([0.1538], dtype=torch.float64))])\n",
            "OrderedDict([('w', tensor([0.4788], dtype=torch.float64)), ('b', tensor([0.1513], dtype=torch.float64))])\n",
            "OrderedDict([('w', tensor([0.4847], dtype=torch.float64)), ('b', tensor([0.1513], dtype=torch.float64))])\n",
            "OrderedDict([('w', tensor([0.4901], dtype=torch.float64)), ('b', tensor([0.1488], dtype=torch.float64))])\n",
            "OrderedDict([('w', tensor([0.4960], dtype=torch.float64)), ('b', tensor([0.1488], dtype=torch.float64))])\n",
            "OrderedDict([('w', tensor([0.5014], dtype=torch.float64)), ('b', tensor([0.1463], dtype=torch.float64))])\n",
            "OrderedDict([('w', tensor([0.5074], dtype=torch.float64)), ('b', tensor([0.1463], dtype=torch.float64))])\n",
            "OrderedDict([('w', tensor([0.5127], dtype=torch.float64)), ('b', tensor([0.1438], dtype=torch.float64))])\n",
            "OrderedDict([('w', tensor([0.5187], dtype=torch.float64)), ('b', tensor([0.1438], dtype=torch.float64))])\n",
            "Epoch : 30 | Loss : 0.029281613216065372\n",
            "OrderedDict([('w', tensor([0.5241], dtype=torch.float64)), ('b', tensor([0.1413], dtype=torch.float64))])\n",
            "OrderedDict([('w', tensor([0.5294], dtype=torch.float64)), ('b', tensor([0.1388], dtype=torch.float64))])\n",
            "OrderedDict([('w', tensor([0.5360], dtype=torch.float64)), ('b', tensor([0.1413], dtype=torch.float64))])\n",
            "OrderedDict([('w', tensor([0.5413], dtype=torch.float64)), ('b', tensor([0.1388], dtype=torch.float64))])\n",
            "OrderedDict([('w', tensor([0.5467], dtype=torch.float64)), ('b', tensor([0.1363], dtype=torch.float64))])\n",
            "OrderedDict([('w', tensor([0.5521], dtype=torch.float64)), ('b', tensor([0.1338], dtype=torch.float64))])\n",
            "OrderedDict([('w', tensor([0.5586], dtype=torch.float64)), ('b', tensor([0.1363], dtype=torch.float64))])\n",
            "OrderedDict([('w', tensor([0.5640], dtype=torch.float64)), ('b', tensor([0.1338], dtype=torch.float64))])\n",
            "OrderedDict([('w', tensor([0.5693], dtype=torch.float64)), ('b', tensor([0.1313], dtype=torch.float64))])\n",
            "OrderedDict([('w', tensor([0.5747], dtype=torch.float64)), ('b', tensor([0.1288], dtype=torch.float64))])\n",
            "Epoch : 40 | Loss : 0.01976735344898517\n",
            "OrderedDict([('w', tensor([0.5812], dtype=torch.float64)), ('b', tensor([0.1313], dtype=torch.float64))])\n",
            "OrderedDict([('w', tensor([0.5866], dtype=torch.float64)), ('b', tensor([0.1288], dtype=torch.float64))])\n",
            "OrderedDict([('w', tensor([0.5920], dtype=torch.float64)), ('b', tensor([0.1263], dtype=torch.float64))])\n",
            "OrderedDict([('w', tensor([0.5973], dtype=torch.float64)), ('b', tensor([0.1238], dtype=torch.float64))])\n",
            "OrderedDict([('w', tensor([0.6033], dtype=torch.float64)), ('b', tensor([0.1238], dtype=torch.float64))])\n",
            "OrderedDict([('w', tensor([0.6087], dtype=torch.float64)), ('b', tensor([0.1213], dtype=torch.float64))])\n",
            "OrderedDict([('w', tensor([0.6146], dtype=torch.float64)), ('b', tensor([0.1213], dtype=torch.float64))])\n",
            "OrderedDict([('w', tensor([0.6200], dtype=torch.float64)), ('b', tensor([0.1188], dtype=torch.float64))])\n",
            "OrderedDict([('w', tensor([0.6253], dtype=torch.float64)), ('b', tensor([0.1163], dtype=torch.float64))])\n",
            "OrderedDict([('w', tensor([0.6319], dtype=torch.float64)), ('b', tensor([0.1188], dtype=torch.float64))])\n",
            "Epoch : 50 | Loss : 0.010555992246143675\n",
            "OrderedDict([('w', tensor([0.6366], dtype=torch.float64)), ('b', tensor([0.1138], dtype=torch.float64))])\n",
            "OrderedDict([('w', tensor([0.6431], dtype=torch.float64)), ('b', tensor([0.1163], dtype=torch.float64))])\n",
            "OrderedDict([('w', tensor([0.6478], dtype=torch.float64)), ('b', tensor([0.1113], dtype=torch.float64))])\n",
            "OrderedDict([('w', tensor([0.6543], dtype=torch.float64)), ('b', tensor([0.1138], dtype=torch.float64))])\n",
            "OrderedDict([('w', tensor([0.6590], dtype=torch.float64)), ('b', tensor([0.1088], dtype=torch.float64))])\n",
            "OrderedDict([('w', tensor([0.6656], dtype=torch.float64)), ('b', tensor([0.1113], dtype=torch.float64))])\n",
            "OrderedDict([('w', tensor([0.6703], dtype=torch.float64)), ('b', tensor([0.1063], dtype=torch.float64))])\n",
            "OrderedDict([('w', tensor([0.6768], dtype=torch.float64)), ('b', tensor([0.1088], dtype=torch.float64))])\n",
            "OrderedDict([('w', tensor([0.6807], dtype=torch.float64)), ('b', tensor([0.1013], dtype=torch.float64))])\n",
            "OrderedDict([('w', tensor([0.6872], dtype=torch.float64)), ('b', tensor([0.1038], dtype=torch.float64))])\n",
            "Epoch : 60 | Loss : 0.0035876525359971184\n",
            "OrderedDict([('w', tensor([0.6919], dtype=torch.float64)), ('b', tensor([0.0988], dtype=torch.float64))])\n",
            "OrderedDict([('w', tensor([0.6984], dtype=torch.float64)), ('b', tensor([0.1013], dtype=torch.float64))])\n",
            "OrderedDict([('w', tensor([0.7023], dtype=torch.float64)), ('b', tensor([0.0938], dtype=torch.float64))])\n",
            "OrderedDict([('w', tensor([0.7039], dtype=torch.float64)), ('b', tensor([0.1038], dtype=torch.float64))])\n",
            "OrderedDict([('w', tensor([0.6995], dtype=torch.float64)), ('b', tensor([0.0963], dtype=torch.float64))])\n",
            "OrderedDict([('w', tensor([0.7011], dtype=torch.float64)), ('b', tensor([0.1063], dtype=torch.float64))])\n",
            "OrderedDict([('w', tensor([0.6995], dtype=torch.float64)), ('b', tensor([0.0963], dtype=torch.float64))])\n",
            "OrderedDict([('w', tensor([0.7011], dtype=torch.float64)), ('b', tensor([0.1063], dtype=torch.float64))])\n",
            "OrderedDict([('w', tensor([0.6995], dtype=torch.float64)), ('b', tensor([0.0963], dtype=torch.float64))])\n",
            "OrderedDict([('w', tensor([0.7011], dtype=torch.float64)), ('b', tensor([0.1063], dtype=torch.float64))])\n",
            "Epoch : 70 | Loss : 0.003849395223550267\n",
            "OrderedDict([('w', tensor([0.6995], dtype=torch.float64)), ('b', tensor([0.0963], dtype=torch.float64))])\n",
            "OrderedDict([('w', tensor([0.7011], dtype=torch.float64)), ('b', tensor([0.1063], dtype=torch.float64))])\n",
            "OrderedDict([('w', tensor([0.6995], dtype=torch.float64)), ('b', tensor([0.0963], dtype=torch.float64))])\n",
            "OrderedDict([('w', tensor([0.7011], dtype=torch.float64)), ('b', tensor([0.1063], dtype=torch.float64))])\n",
            "OrderedDict([('w', tensor([0.6995], dtype=torch.float64)), ('b', tensor([0.0963], dtype=torch.float64))])\n",
            "OrderedDict([('w', tensor([0.7011], dtype=torch.float64)), ('b', tensor([0.1063], dtype=torch.float64))])\n",
            "OrderedDict([('w', tensor([0.6995], dtype=torch.float64)), ('b', tensor([0.0963], dtype=torch.float64))])\n",
            "OrderedDict([('w', tensor([0.7011], dtype=torch.float64)), ('b', tensor([0.1063], dtype=torch.float64))])\n",
            "OrderedDict([('w', tensor([0.6995], dtype=torch.float64)), ('b', tensor([0.0963], dtype=torch.float64))])\n",
            "OrderedDict([('w', tensor([0.7011], dtype=torch.float64)), ('b', tensor([0.1063], dtype=torch.float64))])\n",
            "Epoch : 80 | Loss : 0.003849395223550267\n",
            "OrderedDict([('w', tensor([0.6995], dtype=torch.float64)), ('b', tensor([0.0963], dtype=torch.float64))])\n",
            "OrderedDict([('w', tensor([0.7011], dtype=torch.float64)), ('b', tensor([0.1063], dtype=torch.float64))])\n",
            "OrderedDict([('w', tensor([0.6995], dtype=torch.float64)), ('b', tensor([0.0963], dtype=torch.float64))])\n",
            "OrderedDict([('w', tensor([0.7011], dtype=torch.float64)), ('b', tensor([0.1063], dtype=torch.float64))])\n",
            "OrderedDict([('w', tensor([0.6995], dtype=torch.float64)), ('b', tensor([0.0963], dtype=torch.float64))])\n",
            "OrderedDict([('w', tensor([0.7011], dtype=torch.float64)), ('b', tensor([0.1063], dtype=torch.float64))])\n",
            "OrderedDict([('w', tensor([0.6995], dtype=torch.float64)), ('b', tensor([0.0963], dtype=torch.float64))])\n",
            "OrderedDict([('w', tensor([0.7011], dtype=torch.float64)), ('b', tensor([0.1063], dtype=torch.float64))])\n",
            "OrderedDict([('w', tensor([0.6995], dtype=torch.float64)), ('b', tensor([0.0963], dtype=torch.float64))])\n",
            "OrderedDict([('w', tensor([0.7011], dtype=torch.float64)), ('b', tensor([0.1063], dtype=torch.float64))])\n",
            "Epoch : 90 | Loss : 0.003849395223550267\n",
            "OrderedDict([('w', tensor([0.6995], dtype=torch.float64)), ('b', tensor([0.0963], dtype=torch.float64))])\n",
            "OrderedDict([('w', tensor([0.7011], dtype=torch.float64)), ('b', tensor([0.1063], dtype=torch.float64))])\n",
            "OrderedDict([('w', tensor([0.6995], dtype=torch.float64)), ('b', tensor([0.0963], dtype=torch.float64))])\n",
            "OrderedDict([('w', tensor([0.7011], dtype=torch.float64)), ('b', tensor([0.1063], dtype=torch.float64))])\n",
            "OrderedDict([('w', tensor([0.6995], dtype=torch.float64)), ('b', tensor([0.0963], dtype=torch.float64))])\n",
            "OrderedDict([('w', tensor([0.7011], dtype=torch.float64)), ('b', tensor([0.1063], dtype=torch.float64))])\n",
            "OrderedDict([('w', tensor([0.6995], dtype=torch.float64)), ('b', tensor([0.0963], dtype=torch.float64))])\n",
            "OrderedDict([('w', tensor([0.7011], dtype=torch.float64)), ('b', tensor([0.1063], dtype=torch.float64))])\n",
            "OrderedDict([('w', tensor([0.6995], dtype=torch.float64)), ('b', tensor([0.0963], dtype=torch.float64))])\n",
            "OrderedDict([('w', tensor([0.7011], dtype=torch.float64)), ('b', tensor([0.1063], dtype=torch.float64))])\n"
          ]
        }
      ]
    }
  ]
}