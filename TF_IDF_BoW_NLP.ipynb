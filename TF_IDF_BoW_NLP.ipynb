{
  "nbformat": 4,
  "nbformat_minor": 0,
  "metadata": {
    "colab": {
      "provenance": [],
      "authorship_tag": "ABX9TyM5YwVdBsvJTMgxkJsO7W7o",
      "include_colab_link": true
    },
    "kernelspec": {
      "name": "python3",
      "display_name": "Python 3"
    },
    "language_info": {
      "name": "python"
    }
  },
  "cells": [
    {
      "cell_type": "markdown",
      "metadata": {
        "id": "view-in-github",
        "colab_type": "text"
      },
      "source": [
        "<a href=\"https://colab.research.google.com/github/kingamirasadi/Python-Pytorch-sklearn/blob/main/TF_IDF_BoW_NLP.ipynb\" target=\"_parent\"><img src=\"https://colab.research.google.com/assets/colab-badge.svg\" alt=\"Open In Colab\"/></a>"
      ]
    },
    {
      "cell_type": "code",
      "execution_count": 131,
      "metadata": {
        "id": "kpFmqek6Tgg-"
      },
      "outputs": [],
      "source": [
        "import numpy as np\n",
        "import pandas as pd\n",
        "import re\n",
        "from sklearn.feature_extraction.text import CountVectorizer\n",
        "from sklearn.tree import DecisionTreeClassifier\n",
        "from sklearn.model_selection import train_test_split\n",
        "from sklearn.metrics import accuracy_score\n"
      ]
    },
    {
      "cell_type": "code",
      "source": [
        "data = pd.read_csv('/content/imdb_top_1000.csv')"
      ],
      "metadata": {
        "id": "EkHKgRAYU0FL"
      },
      "execution_count": 112,
      "outputs": []
    },
    {
      "cell_type": "code",
      "source": [
        "data.isnull().sum()"
      ],
      "metadata": {
        "id": "EiKsPTUgU-nK"
      },
      "execution_count": null,
      "outputs": []
    },
    {
      "cell_type": "code",
      "source": [
        "data.columns"
      ],
      "metadata": {
        "colab": {
          "base_uri": "https://localhost:8080/"
        },
        "id": "R0NoLq1bVNti",
        "outputId": "ff7a66a5-a5a2-43bd-9812-0431c982800b"
      },
      "execution_count": 114,
      "outputs": [
        {
          "output_type": "execute_result",
          "data": {
            "text/plain": [
              "Index(['Poster_Link', 'Series_Title', 'Released_Year', 'Certificate',\n",
              "       'Runtime', 'Genre', 'IMDB_Rating', 'Overview', 'Meta_score', 'Director',\n",
              "       'Star1', 'Star2', 'Star3', 'Star4', 'No_of_Votes', 'Gross'],\n",
              "      dtype='object')"
            ]
          },
          "metadata": {},
          "execution_count": 114
        }
      ]
    },
    {
      "cell_type": "code",
      "source": [
        "df = data[['Certificate','Genre']]"
      ],
      "metadata": {
        "id": "a3mVgQRLVA1K"
      },
      "execution_count": 115,
      "outputs": []
    },
    {
      "cell_type": "code",
      "source": [
        "df_droped = df.dropna()"
      ],
      "metadata": {
        "id": "wMNKBWaUVT8h"
      },
      "execution_count": 116,
      "outputs": []
    },
    {
      "cell_type": "code",
      "source": [
        "df_droped.columns"
      ],
      "metadata": {
        "colab": {
          "base_uri": "https://localhost:8080/"
        },
        "id": "7HhMaP0WViI1",
        "outputId": "a257af07-3948-4b9d-9219-98d8c9a92244"
      },
      "execution_count": 117,
      "outputs": [
        {
          "output_type": "execute_result",
          "data": {
            "text/plain": [
              "Index(['Certificate', 'Genre'], dtype='object')"
            ]
          },
          "metadata": {},
          "execution_count": 117
        }
      ]
    },
    {
      "cell_type": "code",
      "source": [
        "def remove_char(text):\n",
        "  new_text = re.sub(',', '', text)\n",
        "  return new_text\n"
      ],
      "metadata": {
        "id": "4OLrtNwBWQGr"
      },
      "execution_count": 118,
      "outputs": []
    },
    {
      "cell_type": "code",
      "source": [
        "df_droped['Genre'] = df_droped['Genre'].apply(remove_char)"
      ],
      "metadata": {
        "colab": {
          "base_uri": "https://localhost:8080/"
        },
        "id": "7ZByVcOZYK6A",
        "outputId": "102bf2d7-8113-45f5-d555-55ab45b572b6"
      },
      "execution_count": 119,
      "outputs": [
        {
          "output_type": "stream",
          "name": "stderr",
          "text": [
            "<ipython-input-119-00648593f965>:1: SettingWithCopyWarning: \n",
            "A value is trying to be set on a copy of a slice from a DataFrame.\n",
            "Try using .loc[row_indexer,col_indexer] = value instead\n",
            "\n",
            "See the caveats in the documentation: https://pandas.pydata.org/pandas-docs/stable/user_guide/indexing.html#returning-a-view-versus-a-copy\n",
            "  df_droped['Genre'] = df_droped['Genre'].apply(remove_char)\n"
          ]
        }
      ]
    },
    {
      "cell_type": "code",
      "source": [
        "df_droped['Genre']"
      ],
      "metadata": {
        "id": "JlmI2FufYPgX",
        "colab": {
          "base_uri": "https://localhost:8080/"
        },
        "outputId": "c3cb620b-436b-497e-afbe-1df190412ba9"
      },
      "execution_count": 120,
      "outputs": [
        {
          "output_type": "execute_result",
          "data": {
            "text/plain": [
              "0                       Drama\n",
              "1                 Crime Drama\n",
              "2          Action Crime Drama\n",
              "3                 Crime Drama\n",
              "4                 Crime Drama\n",
              "                ...          \n",
              "993    Drama Mystery Thriller\n",
              "994      Comedy Music Musical\n",
              "995      Comedy Drama Romance\n",
              "996             Drama Western\n",
              "997         Drama Romance War\n",
              "Name: Genre, Length: 899, dtype: object"
            ]
          },
          "metadata": {},
          "execution_count": 120
        }
      ]
    },
    {
      "cell_type": "code",
      "source": [
        "X = df_droped['Genre']\n",
        "y = df_droped['Certificate']"
      ],
      "metadata": {
        "id": "uheJLZMxbE5u"
      },
      "execution_count": 121,
      "outputs": []
    },
    {
      "cell_type": "code",
      "source": [
        "vectorizer = CountVectorizer()"
      ],
      "metadata": {
        "id": "z_vC_G_4eHVF"
      },
      "execution_count": 122,
      "outputs": []
    },
    {
      "cell_type": "code",
      "source": [
        "X = vectorizer.fit_transform(X)"
      ],
      "metadata": {
        "id": "TdZ6-xa8jLEg"
      },
      "execution_count": 123,
      "outputs": []
    },
    {
      "cell_type": "code",
      "source": [
        "X_train, X_test, y_train, y_test = train_test_split(X, y, test_size=0.2, random_state=42)\n"
      ],
      "metadata": {
        "id": "n-6n0Mtjju6G"
      },
      "execution_count": 126,
      "outputs": []
    },
    {
      "cell_type": "code",
      "source": [
        "tree = DecisionTreeClassifier()"
      ],
      "metadata": {
        "id": "K6ZZM3CTjzNs"
      },
      "execution_count": 127,
      "outputs": []
    },
    {
      "cell_type": "code",
      "source": [
        "tree.fit(X_train,y_train)"
      ],
      "metadata": {
        "id": "_o2O7zWfj_d5"
      },
      "execution_count": null,
      "outputs": []
    },
    {
      "cell_type": "code",
      "source": [
        "y_pred=tree.predict(X_test)"
      ],
      "metadata": {
        "id": "PKZ2ALj1kfZT"
      },
      "execution_count": 129,
      "outputs": []
    },
    {
      "cell_type": "code",
      "source": [
        "accuracy = accuracy_score(y_test, y_pred)\n",
        "print(\"Accuracy:\", accuracy)"
      ],
      "metadata": {
        "colab": {
          "base_uri": "https://localhost:8080/"
        },
        "id": "Zd_PMjvOkpAZ",
        "outputId": "23082dd9-e93f-46a1-c0d8-fc5e595943bb"
      },
      "execution_count": 132,
      "outputs": [
        {
          "output_type": "stream",
          "name": "stdout",
          "text": [
            "Accuracy: 0.29444444444444445\n"
          ]
        }
      ]
    }
  ]
}