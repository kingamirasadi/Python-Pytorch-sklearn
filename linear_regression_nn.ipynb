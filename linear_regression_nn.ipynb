{
  "nbformat": 4,
  "nbformat_minor": 0,
  "metadata": {
    "colab": {
      "provenance": [],
      "authorship_tag": "ABX9TyPRoTH7+iyqWXFgJgU+GJDw",
      "include_colab_link": true
    },
    "kernelspec": {
      "name": "python3",
      "display_name": "Python 3"
    },
    "language_info": {
      "name": "python"
    }
  },
  "cells": [
    {
      "cell_type": "markdown",
      "metadata": {
        "id": "view-in-github",
        "colab_type": "text"
      },
      "source": [
        "<a href=\"https://colab.research.google.com/github/kingamirasadi/cv/blob/main/linear_regression_nn.ipynb\" target=\"_parent\"><img src=\"https://colab.research.google.com/assets/colab-badge.svg\" alt=\"Open In Colab\"/></a>"
      ]
    },
    {
      "cell_type": "code",
      "source": [
        "pip install ucimlrepo"
      ],
      "metadata": {
        "colab": {
          "base_uri": "https://localhost:8080/"
        },
        "id": "yNSsBPjZsqy8",
        "outputId": "1d54936c-1d51-4cbb-fca6-40f5e60f45a6"
      },
      "execution_count": 2,
      "outputs": [
        {
          "output_type": "stream",
          "name": "stdout",
          "text": [
            "Collecting ucimlrepo\n",
            "  Downloading ucimlrepo-0.0.3-py3-none-any.whl (7.0 kB)\n",
            "Installing collected packages: ucimlrepo\n",
            "Successfully installed ucimlrepo-0.0.3\n"
          ]
        }
      ]
    },
    {
      "cell_type": "code",
      "source": [
        "from ucimlrepo import fetch_ucirepo\n",
        "import numpy as np\n",
        "import torch\n",
        "from torch import nn\n",
        "from sklearn.impute import SimpleImputer\n",
        "from sklearn.preprocessing import LabelEncoder\n",
        "from sklearn.preprocessing import OneHotEncoder\n",
        "import pandas as pd\n",
        "from sklearn.compose import ColumnTransformer\n",
        "from sklearn.preprocessing import MinMaxScaler\n",
        "from sklearn.preprocessing import StandardScaler\n",
        "from sklearn.model_selection import train_test_split\n",
        "from sklearn.decomposition import PCA\n",
        "import torch.nn.functional as F\n",
        "\n",
        "\n",
        "\n"
      ],
      "metadata": {
        "id": "MSCoRdKzncuJ"
      },
      "execution_count": 3,
      "outputs": []
    },
    {
      "cell_type": "code",
      "source": [
        "\n",
        "# fetch dataset\n",
        "infrared_thermography_temperature = fetch_ucirepo(id=925)\n",
        "\n",
        "# data (as pandas dataframes)\n",
        "X = infrared_thermography_temperature.data.features\n",
        "y = infrared_thermography_temperature.data.targets\n"
      ],
      "metadata": {
        "id": "0alseGWCmr-E"
      },
      "execution_count": 4,
      "outputs": []
    },
    {
      "cell_type": "code",
      "source": [
        "imputer = SimpleImputer(missing_values=np.nan, strategy='mean')"
      ],
      "metadata": {
        "id": "lyiuECVLm09q"
      },
      "execution_count": 5,
      "outputs": []
    },
    {
      "cell_type": "code",
      "source": [
        "X['Distance'] = X['Distance'].fillna(X['Distance'].mean())"
      ],
      "metadata": {
        "colab": {
          "base_uri": "https://localhost:8080/"
        },
        "id": "Gfsi_8z52ZhF",
        "outputId": "e2c088c3-e4cc-4c79-ea6e-0e63a3439f5b"
      },
      "execution_count": 6,
      "outputs": [
        {
          "output_type": "stream",
          "name": "stderr",
          "text": [
            "<ipython-input-6-7bc11b51e899>:1: SettingWithCopyWarning: \n",
            "A value is trying to be set on a copy of a slice from a DataFrame.\n",
            "Try using .loc[row_indexer,col_indexer] = value instead\n",
            "\n",
            "See the caveats in the documentation: https://pandas.pydata.org/pandas-docs/stable/user_guide/indexing.html#returning-a-view-versus-a-copy\n",
            "  X['Distance'] = X['Distance'].fillna(X['Distance'].mean())\n"
          ]
        }
      ]
    },
    {
      "cell_type": "code",
      "source": [
        "y.columns"
      ],
      "metadata": {
        "colab": {
          "base_uri": "https://localhost:8080/"
        },
        "id": "x-29zRAu3Ptc",
        "outputId": "495f434d-accb-4eb3-9932-297f41f06702"
      },
      "execution_count": 7,
      "outputs": [
        {
          "output_type": "execute_result",
          "data": {
            "text/plain": [
              "Index(['aveOralF', 'aveOralM'], dtype='object')"
            ]
          },
          "metadata": {},
          "execution_count": 7
        }
      ]
    },
    {
      "cell_type": "code",
      "source": [
        "y"
      ],
      "metadata": {
        "colab": {
          "base_uri": "https://localhost:8080/",
          "height": 423
        },
        "id": "diUE111c3T3r",
        "outputId": "86d4c944-33e1-490a-fabe-27262291800c"
      },
      "execution_count": 8,
      "outputs": [
        {
          "output_type": "execute_result",
          "data": {
            "text/plain": [
              "      aveOralF  aveOralM\n",
              "0        36.85     36.59\n",
              "1        37.00     37.19\n",
              "2        37.20     37.34\n",
              "3        36.85     37.09\n",
              "4        36.80     37.04\n",
              "...        ...       ...\n",
              "1015     36.95     36.99\n",
              "1016     37.25     37.19\n",
              "1017     37.35     37.59\n",
              "1018     37.15     37.29\n",
              "1019     37.05     37.19\n",
              "\n",
              "[1020 rows x 2 columns]"
            ],
            "text/html": [
              "\n",
              "  <div id=\"df-24f7f1ed-a98b-4f18-a85b-eb8c7a448e66\" class=\"colab-df-container\">\n",
              "    <div>\n",
              "<style scoped>\n",
              "    .dataframe tbody tr th:only-of-type {\n",
              "        vertical-align: middle;\n",
              "    }\n",
              "\n",
              "    .dataframe tbody tr th {\n",
              "        vertical-align: top;\n",
              "    }\n",
              "\n",
              "    .dataframe thead th {\n",
              "        text-align: right;\n",
              "    }\n",
              "</style>\n",
              "<table border=\"1\" class=\"dataframe\">\n",
              "  <thead>\n",
              "    <tr style=\"text-align: right;\">\n",
              "      <th></th>\n",
              "      <th>aveOralF</th>\n",
              "      <th>aveOralM</th>\n",
              "    </tr>\n",
              "  </thead>\n",
              "  <tbody>\n",
              "    <tr>\n",
              "      <th>0</th>\n",
              "      <td>36.85</td>\n",
              "      <td>36.59</td>\n",
              "    </tr>\n",
              "    <tr>\n",
              "      <th>1</th>\n",
              "      <td>37.00</td>\n",
              "      <td>37.19</td>\n",
              "    </tr>\n",
              "    <tr>\n",
              "      <th>2</th>\n",
              "      <td>37.20</td>\n",
              "      <td>37.34</td>\n",
              "    </tr>\n",
              "    <tr>\n",
              "      <th>3</th>\n",
              "      <td>36.85</td>\n",
              "      <td>37.09</td>\n",
              "    </tr>\n",
              "    <tr>\n",
              "      <th>4</th>\n",
              "      <td>36.80</td>\n",
              "      <td>37.04</td>\n",
              "    </tr>\n",
              "    <tr>\n",
              "      <th>...</th>\n",
              "      <td>...</td>\n",
              "      <td>...</td>\n",
              "    </tr>\n",
              "    <tr>\n",
              "      <th>1015</th>\n",
              "      <td>36.95</td>\n",
              "      <td>36.99</td>\n",
              "    </tr>\n",
              "    <tr>\n",
              "      <th>1016</th>\n",
              "      <td>37.25</td>\n",
              "      <td>37.19</td>\n",
              "    </tr>\n",
              "    <tr>\n",
              "      <th>1017</th>\n",
              "      <td>37.35</td>\n",
              "      <td>37.59</td>\n",
              "    </tr>\n",
              "    <tr>\n",
              "      <th>1018</th>\n",
              "      <td>37.15</td>\n",
              "      <td>37.29</td>\n",
              "    </tr>\n",
              "    <tr>\n",
              "      <th>1019</th>\n",
              "      <td>37.05</td>\n",
              "      <td>37.19</td>\n",
              "    </tr>\n",
              "  </tbody>\n",
              "</table>\n",
              "<p>1020 rows × 2 columns</p>\n",
              "</div>\n",
              "    <div class=\"colab-df-buttons\">\n",
              "\n",
              "  <div class=\"colab-df-container\">\n",
              "    <button class=\"colab-df-convert\" onclick=\"convertToInteractive('df-24f7f1ed-a98b-4f18-a85b-eb8c7a448e66')\"\n",
              "            title=\"Convert this dataframe to an interactive table.\"\n",
              "            style=\"display:none;\">\n",
              "\n",
              "  <svg xmlns=\"http://www.w3.org/2000/svg\" height=\"24px\" viewBox=\"0 -960 960 960\">\n",
              "    <path d=\"M120-120v-720h720v720H120Zm60-500h600v-160H180v160Zm220 220h160v-160H400v160Zm0 220h160v-160H400v160ZM180-400h160v-160H180v160Zm440 0h160v-160H620v160ZM180-180h160v-160H180v160Zm440 0h160v-160H620v160Z\"/>\n",
              "  </svg>\n",
              "    </button>\n",
              "\n",
              "  <style>\n",
              "    .colab-df-container {\n",
              "      display:flex;\n",
              "      gap: 12px;\n",
              "    }\n",
              "\n",
              "    .colab-df-convert {\n",
              "      background-color: #E8F0FE;\n",
              "      border: none;\n",
              "      border-radius: 50%;\n",
              "      cursor: pointer;\n",
              "      display: none;\n",
              "      fill: #1967D2;\n",
              "      height: 32px;\n",
              "      padding: 0 0 0 0;\n",
              "      width: 32px;\n",
              "    }\n",
              "\n",
              "    .colab-df-convert:hover {\n",
              "      background-color: #E2EBFA;\n",
              "      box-shadow: 0px 1px 2px rgba(60, 64, 67, 0.3), 0px 1px 3px 1px rgba(60, 64, 67, 0.15);\n",
              "      fill: #174EA6;\n",
              "    }\n",
              "\n",
              "    .colab-df-buttons div {\n",
              "      margin-bottom: 4px;\n",
              "    }\n",
              "\n",
              "    [theme=dark] .colab-df-convert {\n",
              "      background-color: #3B4455;\n",
              "      fill: #D2E3FC;\n",
              "    }\n",
              "\n",
              "    [theme=dark] .colab-df-convert:hover {\n",
              "      background-color: #434B5C;\n",
              "      box-shadow: 0px 1px 3px 1px rgba(0, 0, 0, 0.15);\n",
              "      filter: drop-shadow(0px 1px 2px rgba(0, 0, 0, 0.3));\n",
              "      fill: #FFFFFF;\n",
              "    }\n",
              "  </style>\n",
              "\n",
              "    <script>\n",
              "      const buttonEl =\n",
              "        document.querySelector('#df-24f7f1ed-a98b-4f18-a85b-eb8c7a448e66 button.colab-df-convert');\n",
              "      buttonEl.style.display =\n",
              "        google.colab.kernel.accessAllowed ? 'block' : 'none';\n",
              "\n",
              "      async function convertToInteractive(key) {\n",
              "        const element = document.querySelector('#df-24f7f1ed-a98b-4f18-a85b-eb8c7a448e66');\n",
              "        const dataTable =\n",
              "          await google.colab.kernel.invokeFunction('convertToInteractive',\n",
              "                                                    [key], {});\n",
              "        if (!dataTable) return;\n",
              "\n",
              "        const docLinkHtml = 'Like what you see? Visit the ' +\n",
              "          '<a target=\"_blank\" href=https://colab.research.google.com/notebooks/data_table.ipynb>data table notebook</a>'\n",
              "          + ' to learn more about interactive tables.';\n",
              "        element.innerHTML = '';\n",
              "        dataTable['output_type'] = 'display_data';\n",
              "        await google.colab.output.renderOutput(dataTable, element);\n",
              "        const docLink = document.createElement('div');\n",
              "        docLink.innerHTML = docLinkHtml;\n",
              "        element.appendChild(docLink);\n",
              "      }\n",
              "    </script>\n",
              "  </div>\n",
              "\n",
              "\n",
              "<div id=\"df-4321f837-71b9-487a-8613-055d5260dd31\">\n",
              "  <button class=\"colab-df-quickchart\" onclick=\"quickchart('df-4321f837-71b9-487a-8613-055d5260dd31')\"\n",
              "            title=\"Suggest charts\"\n",
              "            style=\"display:none;\">\n",
              "\n",
              "<svg xmlns=\"http://www.w3.org/2000/svg\" height=\"24px\"viewBox=\"0 0 24 24\"\n",
              "     width=\"24px\">\n",
              "    <g>\n",
              "        <path d=\"M19 3H5c-1.1 0-2 .9-2 2v14c0 1.1.9 2 2 2h14c1.1 0 2-.9 2-2V5c0-1.1-.9-2-2-2zM9 17H7v-7h2v7zm4 0h-2V7h2v10zm4 0h-2v-4h2v4z\"/>\n",
              "    </g>\n",
              "</svg>\n",
              "  </button>\n",
              "\n",
              "<style>\n",
              "  .colab-df-quickchart {\n",
              "      --bg-color: #E8F0FE;\n",
              "      --fill-color: #1967D2;\n",
              "      --hover-bg-color: #E2EBFA;\n",
              "      --hover-fill-color: #174EA6;\n",
              "      --disabled-fill-color: #AAA;\n",
              "      --disabled-bg-color: #DDD;\n",
              "  }\n",
              "\n",
              "  [theme=dark] .colab-df-quickchart {\n",
              "      --bg-color: #3B4455;\n",
              "      --fill-color: #D2E3FC;\n",
              "      --hover-bg-color: #434B5C;\n",
              "      --hover-fill-color: #FFFFFF;\n",
              "      --disabled-bg-color: #3B4455;\n",
              "      --disabled-fill-color: #666;\n",
              "  }\n",
              "\n",
              "  .colab-df-quickchart {\n",
              "    background-color: var(--bg-color);\n",
              "    border: none;\n",
              "    border-radius: 50%;\n",
              "    cursor: pointer;\n",
              "    display: none;\n",
              "    fill: var(--fill-color);\n",
              "    height: 32px;\n",
              "    padding: 0;\n",
              "    width: 32px;\n",
              "  }\n",
              "\n",
              "  .colab-df-quickchart:hover {\n",
              "    background-color: var(--hover-bg-color);\n",
              "    box-shadow: 0 1px 2px rgba(60, 64, 67, 0.3), 0 1px 3px 1px rgba(60, 64, 67, 0.15);\n",
              "    fill: var(--button-hover-fill-color);\n",
              "  }\n",
              "\n",
              "  .colab-df-quickchart-complete:disabled,\n",
              "  .colab-df-quickchart-complete:disabled:hover {\n",
              "    background-color: var(--disabled-bg-color);\n",
              "    fill: var(--disabled-fill-color);\n",
              "    box-shadow: none;\n",
              "  }\n",
              "\n",
              "  .colab-df-spinner {\n",
              "    border: 2px solid var(--fill-color);\n",
              "    border-color: transparent;\n",
              "    border-bottom-color: var(--fill-color);\n",
              "    animation:\n",
              "      spin 1s steps(1) infinite;\n",
              "  }\n",
              "\n",
              "  @keyframes spin {\n",
              "    0% {\n",
              "      border-color: transparent;\n",
              "      border-bottom-color: var(--fill-color);\n",
              "      border-left-color: var(--fill-color);\n",
              "    }\n",
              "    20% {\n",
              "      border-color: transparent;\n",
              "      border-left-color: var(--fill-color);\n",
              "      border-top-color: var(--fill-color);\n",
              "    }\n",
              "    30% {\n",
              "      border-color: transparent;\n",
              "      border-left-color: var(--fill-color);\n",
              "      border-top-color: var(--fill-color);\n",
              "      border-right-color: var(--fill-color);\n",
              "    }\n",
              "    40% {\n",
              "      border-color: transparent;\n",
              "      border-right-color: var(--fill-color);\n",
              "      border-top-color: var(--fill-color);\n",
              "    }\n",
              "    60% {\n",
              "      border-color: transparent;\n",
              "      border-right-color: var(--fill-color);\n",
              "    }\n",
              "    80% {\n",
              "      border-color: transparent;\n",
              "      border-right-color: var(--fill-color);\n",
              "      border-bottom-color: var(--fill-color);\n",
              "    }\n",
              "    90% {\n",
              "      border-color: transparent;\n",
              "      border-bottom-color: var(--fill-color);\n",
              "    }\n",
              "  }\n",
              "</style>\n",
              "\n",
              "  <script>\n",
              "    async function quickchart(key) {\n",
              "      const quickchartButtonEl =\n",
              "        document.querySelector('#' + key + ' button');\n",
              "      quickchartButtonEl.disabled = true;  // To prevent multiple clicks.\n",
              "      quickchartButtonEl.classList.add('colab-df-spinner');\n",
              "      try {\n",
              "        const charts = await google.colab.kernel.invokeFunction(\n",
              "            'suggestCharts', [key], {});\n",
              "      } catch (error) {\n",
              "        console.error('Error during call to suggestCharts:', error);\n",
              "      }\n",
              "      quickchartButtonEl.classList.remove('colab-df-spinner');\n",
              "      quickchartButtonEl.classList.add('colab-df-quickchart-complete');\n",
              "    }\n",
              "    (() => {\n",
              "      let quickchartButtonEl =\n",
              "        document.querySelector('#df-4321f837-71b9-487a-8613-055d5260dd31 button');\n",
              "      quickchartButtonEl.style.display =\n",
              "        google.colab.kernel.accessAllowed ? 'block' : 'none';\n",
              "    })();\n",
              "  </script>\n",
              "</div>\n",
              "    </div>\n",
              "  </div>\n"
            ],
            "application/vnd.google.colaboratory.intrinsic+json": {
              "type": "dataframe",
              "variable_name": "y",
              "summary": "{\n  \"name\": \"y\",\n  \"rows\": 1020,\n  \"fields\": [\n    {\n      \"column\": \"aveOralF\",\n      \"properties\": {\n        \"dtype\": \"number\",\n        \"std\": 0.3864033248934766,\n        \"min\": 35.75,\n        \"max\": 39.6,\n        \"num_unique_values\": 53,\n        \"samples\": [\n          37.65,\n          39.2,\n          38.9\n        ],\n        \"semantic_type\": \"\",\n        \"description\": \"\"\n      }\n    },\n    {\n      \"column\": \"aveOralM\",\n      \"properties\": {\n        \"dtype\": \"number\",\n        \"std\": 0.5095022787133393,\n        \"min\": 35.54,\n        \"max\": 40.34,\n        \"num_unique_values\": 70,\n        \"samples\": [\n          36.39,\n          36.59,\n          37.59\n        ],\n        \"semantic_type\": \"\",\n        \"description\": \"\"\n      }\n    }\n  ]\n}"
            }
          },
          "metadata": {},
          "execution_count": 8
        }
      ]
    },
    {
      "cell_type": "code",
      "source": [
        "y = y.drop('aveOralM', axis=1)\n"
      ],
      "metadata": {
        "id": "POj4jZrL3i5P"
      },
      "execution_count": 9,
      "outputs": []
    },
    {
      "cell_type": "code",
      "source": [
        "y.isnull().sum()"
      ],
      "metadata": {
        "colab": {
          "base_uri": "https://localhost:8080/"
        },
        "id": "MZk8NDlu3xrt",
        "outputId": "9043b481-250c-4320-bffc-4a87941a8d46"
      },
      "execution_count": 10,
      "outputs": [
        {
          "output_type": "execute_result",
          "data": {
            "text/plain": [
              "aveOralF    0\n",
              "dtype: int64"
            ]
          },
          "metadata": {},
          "execution_count": 10
        }
      ]
    },
    {
      "cell_type": "code",
      "source": [
        "X.head(10)"
      ],
      "metadata": {
        "colab": {
          "base_uri": "https://localhost:8080/",
          "height": 620
        },
        "id": "x1vyEVle5Z1D",
        "outputId": "20babf7a-3e9d-4ff0-c2e9-d8872095186f"
      },
      "execution_count": 11,
      "outputs": [
        {
          "output_type": "execute_result",
          "data": {
            "text/plain": [
              "   Gender    Age                  Ethnicity  T_atm  Humidity  Distance  \\\n",
              "0    Male  41-50                      White   24.0      28.0       0.8   \n",
              "1  Female  31-40  Black or African-American   24.0      26.0       0.8   \n",
              "2  Female  21-30                      White   24.0      26.0       0.8   \n",
              "3  Female  21-30  Black or African-American   24.0      27.0       0.8   \n",
              "4    Male  18-20                      White   24.0      27.0       0.8   \n",
              "5  Female  21-30                      White   24.0      26.0       0.8   \n",
              "6    Male  21-30                      White   24.0      31.0       0.8   \n",
              "7  Female  18-20                      White   25.0      30.0       0.8   \n",
              "8  Female  18-20                      Asian   25.0      30.0       0.8   \n",
              "9    Male  18-20                Multiracial   26.0      31.0       0.8   \n",
              "\n",
              "   T_offset1  Max1R13_1  Max1L13_1  aveAllR13_1  ...  T_FHCC1  T_FHRC1  \\\n",
              "0     0.7025    35.0300    35.3775      34.4000  ...  33.5775  33.4775   \n",
              "1     0.7800    34.5500    34.5200      33.9300  ...  34.0325  34.0550   \n",
              "2     0.8625    35.6525    35.5175      34.2775  ...  34.9000  34.8275   \n",
              "3     0.9300    35.2225    35.6125      34.3850  ...  34.4400  34.4225   \n",
              "4     0.8950    35.5450    35.6650      34.9100  ...  35.0900  35.1600   \n",
              "5     0.8275    35.1325    35.2025      34.5275  ...  34.1925  34.2825   \n",
              "6     0.4425    35.2825    35.6150      34.7500  ...  33.4775  33.6025   \n",
              "7     0.5875    35.1050    34.8700      34.2725  ...  33.7275  33.4025   \n",
              "8     0.9775    35.3075    35.4225      34.5575  ...  35.1475  35.0250   \n",
              "9     1.0675    35.8900    35.7650      35.4225  ...  35.2550  35.3525   \n",
              "\n",
              "   T_FHLC1  T_FHBC1  T_FHTC1  T_FH_Max1  T_FHC_Max1   T_Max1    T_OR1  \\\n",
              "0  33.3725  33.4925  33.0025    34.5300     34.0075  35.6925  35.6350   \n",
              "1  33.6775  33.9700  34.0025    34.6825     34.6600  35.1750  35.0925   \n",
              "2  34.6475  34.8200  34.6700    35.3450     35.2225  35.9125  35.8600   \n",
              "3  34.6550  34.3025  34.9175    35.6025     35.3150  35.7200  34.9650   \n",
              "4  34.3975  34.6700  33.8275    35.4175     35.3725  35.8950  35.5875   \n",
              "5  34.4800  34.2850  34.2425    34.8600     34.6925  35.8500  35.8175   \n",
              "6  34.0150  33.6775  34.2775    35.2000     34.6300  35.8375  35.6650   \n",
              "7  33.3925  33.4600  33.5550    34.1325     33.9975  35.6800  35.4425   \n",
              "8  35.1725  35.1900  35.2900    35.6550     35.4750  35.8525  35.3575   \n",
              "9  35.3750  35.2150  35.0100    35.6350     35.4875  36.2050  35.9750   \n",
              "\n",
              "   T_OR_Max1  \n",
              "0    35.6525  \n",
              "1    35.1075  \n",
              "2    35.8850  \n",
              "3    34.9825  \n",
              "4    35.6175  \n",
              "5    35.8500  \n",
              "6    35.7075  \n",
              "7    35.4900  \n",
              "8    35.3825  \n",
              "9    36.0200  \n",
              "\n",
              "[10 rows x 33 columns]"
            ],
            "text/html": [
              "\n",
              "  <div id=\"df-1375ab5a-dd98-4676-911d-9a49e3e9a090\" class=\"colab-df-container\">\n",
              "    <div>\n",
              "<style scoped>\n",
              "    .dataframe tbody tr th:only-of-type {\n",
              "        vertical-align: middle;\n",
              "    }\n",
              "\n",
              "    .dataframe tbody tr th {\n",
              "        vertical-align: top;\n",
              "    }\n",
              "\n",
              "    .dataframe thead th {\n",
              "        text-align: right;\n",
              "    }\n",
              "</style>\n",
              "<table border=\"1\" class=\"dataframe\">\n",
              "  <thead>\n",
              "    <tr style=\"text-align: right;\">\n",
              "      <th></th>\n",
              "      <th>Gender</th>\n",
              "      <th>Age</th>\n",
              "      <th>Ethnicity</th>\n",
              "      <th>T_atm</th>\n",
              "      <th>Humidity</th>\n",
              "      <th>Distance</th>\n",
              "      <th>T_offset1</th>\n",
              "      <th>Max1R13_1</th>\n",
              "      <th>Max1L13_1</th>\n",
              "      <th>aveAllR13_1</th>\n",
              "      <th>...</th>\n",
              "      <th>T_FHCC1</th>\n",
              "      <th>T_FHRC1</th>\n",
              "      <th>T_FHLC1</th>\n",
              "      <th>T_FHBC1</th>\n",
              "      <th>T_FHTC1</th>\n",
              "      <th>T_FH_Max1</th>\n",
              "      <th>T_FHC_Max1</th>\n",
              "      <th>T_Max1</th>\n",
              "      <th>T_OR1</th>\n",
              "      <th>T_OR_Max1</th>\n",
              "    </tr>\n",
              "  </thead>\n",
              "  <tbody>\n",
              "    <tr>\n",
              "      <th>0</th>\n",
              "      <td>Male</td>\n",
              "      <td>41-50</td>\n",
              "      <td>White</td>\n",
              "      <td>24.0</td>\n",
              "      <td>28.0</td>\n",
              "      <td>0.8</td>\n",
              "      <td>0.7025</td>\n",
              "      <td>35.0300</td>\n",
              "      <td>35.3775</td>\n",
              "      <td>34.4000</td>\n",
              "      <td>...</td>\n",
              "      <td>33.5775</td>\n",
              "      <td>33.4775</td>\n",
              "      <td>33.3725</td>\n",
              "      <td>33.4925</td>\n",
              "      <td>33.0025</td>\n",
              "      <td>34.5300</td>\n",
              "      <td>34.0075</td>\n",
              "      <td>35.6925</td>\n",
              "      <td>35.6350</td>\n",
              "      <td>35.6525</td>\n",
              "    </tr>\n",
              "    <tr>\n",
              "      <th>1</th>\n",
              "      <td>Female</td>\n",
              "      <td>31-40</td>\n",
              "      <td>Black or African-American</td>\n",
              "      <td>24.0</td>\n",
              "      <td>26.0</td>\n",
              "      <td>0.8</td>\n",
              "      <td>0.7800</td>\n",
              "      <td>34.5500</td>\n",
              "      <td>34.5200</td>\n",
              "      <td>33.9300</td>\n",
              "      <td>...</td>\n",
              "      <td>34.0325</td>\n",
              "      <td>34.0550</td>\n",
              "      <td>33.6775</td>\n",
              "      <td>33.9700</td>\n",
              "      <td>34.0025</td>\n",
              "      <td>34.6825</td>\n",
              "      <td>34.6600</td>\n",
              "      <td>35.1750</td>\n",
              "      <td>35.0925</td>\n",
              "      <td>35.1075</td>\n",
              "    </tr>\n",
              "    <tr>\n",
              "      <th>2</th>\n",
              "      <td>Female</td>\n",
              "      <td>21-30</td>\n",
              "      <td>White</td>\n",
              "      <td>24.0</td>\n",
              "      <td>26.0</td>\n",
              "      <td>0.8</td>\n",
              "      <td>0.8625</td>\n",
              "      <td>35.6525</td>\n",
              "      <td>35.5175</td>\n",
              "      <td>34.2775</td>\n",
              "      <td>...</td>\n",
              "      <td>34.9000</td>\n",
              "      <td>34.8275</td>\n",
              "      <td>34.6475</td>\n",
              "      <td>34.8200</td>\n",
              "      <td>34.6700</td>\n",
              "      <td>35.3450</td>\n",
              "      <td>35.2225</td>\n",
              "      <td>35.9125</td>\n",
              "      <td>35.8600</td>\n",
              "      <td>35.8850</td>\n",
              "    </tr>\n",
              "    <tr>\n",
              "      <th>3</th>\n",
              "      <td>Female</td>\n",
              "      <td>21-30</td>\n",
              "      <td>Black or African-American</td>\n",
              "      <td>24.0</td>\n",
              "      <td>27.0</td>\n",
              "      <td>0.8</td>\n",
              "      <td>0.9300</td>\n",
              "      <td>35.2225</td>\n",
              "      <td>35.6125</td>\n",
              "      <td>34.3850</td>\n",
              "      <td>...</td>\n",
              "      <td>34.4400</td>\n",
              "      <td>34.4225</td>\n",
              "      <td>34.6550</td>\n",
              "      <td>34.3025</td>\n",
              "      <td>34.9175</td>\n",
              "      <td>35.6025</td>\n",
              "      <td>35.3150</td>\n",
              "      <td>35.7200</td>\n",
              "      <td>34.9650</td>\n",
              "      <td>34.9825</td>\n",
              "    </tr>\n",
              "    <tr>\n",
              "      <th>4</th>\n",
              "      <td>Male</td>\n",
              "      <td>18-20</td>\n",
              "      <td>White</td>\n",
              "      <td>24.0</td>\n",
              "      <td>27.0</td>\n",
              "      <td>0.8</td>\n",
              "      <td>0.8950</td>\n",
              "      <td>35.5450</td>\n",
              "      <td>35.6650</td>\n",
              "      <td>34.9100</td>\n",
              "      <td>...</td>\n",
              "      <td>35.0900</td>\n",
              "      <td>35.1600</td>\n",
              "      <td>34.3975</td>\n",
              "      <td>34.6700</td>\n",
              "      <td>33.8275</td>\n",
              "      <td>35.4175</td>\n",
              "      <td>35.3725</td>\n",
              "      <td>35.8950</td>\n",
              "      <td>35.5875</td>\n",
              "      <td>35.6175</td>\n",
              "    </tr>\n",
              "    <tr>\n",
              "      <th>5</th>\n",
              "      <td>Female</td>\n",
              "      <td>21-30</td>\n",
              "      <td>White</td>\n",
              "      <td>24.0</td>\n",
              "      <td>26.0</td>\n",
              "      <td>0.8</td>\n",
              "      <td>0.8275</td>\n",
              "      <td>35.1325</td>\n",
              "      <td>35.2025</td>\n",
              "      <td>34.5275</td>\n",
              "      <td>...</td>\n",
              "      <td>34.1925</td>\n",
              "      <td>34.2825</td>\n",
              "      <td>34.4800</td>\n",
              "      <td>34.2850</td>\n",
              "      <td>34.2425</td>\n",
              "      <td>34.8600</td>\n",
              "      <td>34.6925</td>\n",
              "      <td>35.8500</td>\n",
              "      <td>35.8175</td>\n",
              "      <td>35.8500</td>\n",
              "    </tr>\n",
              "    <tr>\n",
              "      <th>6</th>\n",
              "      <td>Male</td>\n",
              "      <td>21-30</td>\n",
              "      <td>White</td>\n",
              "      <td>24.0</td>\n",
              "      <td>31.0</td>\n",
              "      <td>0.8</td>\n",
              "      <td>0.4425</td>\n",
              "      <td>35.2825</td>\n",
              "      <td>35.6150</td>\n",
              "      <td>34.7500</td>\n",
              "      <td>...</td>\n",
              "      <td>33.4775</td>\n",
              "      <td>33.6025</td>\n",
              "      <td>34.0150</td>\n",
              "      <td>33.6775</td>\n",
              "      <td>34.2775</td>\n",
              "      <td>35.2000</td>\n",
              "      <td>34.6300</td>\n",
              "      <td>35.8375</td>\n",
              "      <td>35.6650</td>\n",
              "      <td>35.7075</td>\n",
              "    </tr>\n",
              "    <tr>\n",
              "      <th>7</th>\n",
              "      <td>Female</td>\n",
              "      <td>18-20</td>\n",
              "      <td>White</td>\n",
              "      <td>25.0</td>\n",
              "      <td>30.0</td>\n",
              "      <td>0.8</td>\n",
              "      <td>0.5875</td>\n",
              "      <td>35.1050</td>\n",
              "      <td>34.8700</td>\n",
              "      <td>34.2725</td>\n",
              "      <td>...</td>\n",
              "      <td>33.7275</td>\n",
              "      <td>33.4025</td>\n",
              "      <td>33.3925</td>\n",
              "      <td>33.4600</td>\n",
              "      <td>33.5550</td>\n",
              "      <td>34.1325</td>\n",
              "      <td>33.9975</td>\n",
              "      <td>35.6800</td>\n",
              "      <td>35.4425</td>\n",
              "      <td>35.4900</td>\n",
              "    </tr>\n",
              "    <tr>\n",
              "      <th>8</th>\n",
              "      <td>Female</td>\n",
              "      <td>18-20</td>\n",
              "      <td>Asian</td>\n",
              "      <td>25.0</td>\n",
              "      <td>30.0</td>\n",
              "      <td>0.8</td>\n",
              "      <td>0.9775</td>\n",
              "      <td>35.3075</td>\n",
              "      <td>35.4225</td>\n",
              "      <td>34.5575</td>\n",
              "      <td>...</td>\n",
              "      <td>35.1475</td>\n",
              "      <td>35.0250</td>\n",
              "      <td>35.1725</td>\n",
              "      <td>35.1900</td>\n",
              "      <td>35.2900</td>\n",
              "      <td>35.6550</td>\n",
              "      <td>35.4750</td>\n",
              "      <td>35.8525</td>\n",
              "      <td>35.3575</td>\n",
              "      <td>35.3825</td>\n",
              "    </tr>\n",
              "    <tr>\n",
              "      <th>9</th>\n",
              "      <td>Male</td>\n",
              "      <td>18-20</td>\n",
              "      <td>Multiracial</td>\n",
              "      <td>26.0</td>\n",
              "      <td>31.0</td>\n",
              "      <td>0.8</td>\n",
              "      <td>1.0675</td>\n",
              "      <td>35.8900</td>\n",
              "      <td>35.7650</td>\n",
              "      <td>35.4225</td>\n",
              "      <td>...</td>\n",
              "      <td>35.2550</td>\n",
              "      <td>35.3525</td>\n",
              "      <td>35.3750</td>\n",
              "      <td>35.2150</td>\n",
              "      <td>35.0100</td>\n",
              "      <td>35.6350</td>\n",
              "      <td>35.4875</td>\n",
              "      <td>36.2050</td>\n",
              "      <td>35.9750</td>\n",
              "      <td>36.0200</td>\n",
              "    </tr>\n",
              "  </tbody>\n",
              "</table>\n",
              "<p>10 rows × 33 columns</p>\n",
              "</div>\n",
              "    <div class=\"colab-df-buttons\">\n",
              "\n",
              "  <div class=\"colab-df-container\">\n",
              "    <button class=\"colab-df-convert\" onclick=\"convertToInteractive('df-1375ab5a-dd98-4676-911d-9a49e3e9a090')\"\n",
              "            title=\"Convert this dataframe to an interactive table.\"\n",
              "            style=\"display:none;\">\n",
              "\n",
              "  <svg xmlns=\"http://www.w3.org/2000/svg\" height=\"24px\" viewBox=\"0 -960 960 960\">\n",
              "    <path d=\"M120-120v-720h720v720H120Zm60-500h600v-160H180v160Zm220 220h160v-160H400v160Zm0 220h160v-160H400v160ZM180-400h160v-160H180v160Zm440 0h160v-160H620v160ZM180-180h160v-160H180v160Zm440 0h160v-160H620v160Z\"/>\n",
              "  </svg>\n",
              "    </button>\n",
              "\n",
              "  <style>\n",
              "    .colab-df-container {\n",
              "      display:flex;\n",
              "      gap: 12px;\n",
              "    }\n",
              "\n",
              "    .colab-df-convert {\n",
              "      background-color: #E8F0FE;\n",
              "      border: none;\n",
              "      border-radius: 50%;\n",
              "      cursor: pointer;\n",
              "      display: none;\n",
              "      fill: #1967D2;\n",
              "      height: 32px;\n",
              "      padding: 0 0 0 0;\n",
              "      width: 32px;\n",
              "    }\n",
              "\n",
              "    .colab-df-convert:hover {\n",
              "      background-color: #E2EBFA;\n",
              "      box-shadow: 0px 1px 2px rgba(60, 64, 67, 0.3), 0px 1px 3px 1px rgba(60, 64, 67, 0.15);\n",
              "      fill: #174EA6;\n",
              "    }\n",
              "\n",
              "    .colab-df-buttons div {\n",
              "      margin-bottom: 4px;\n",
              "    }\n",
              "\n",
              "    [theme=dark] .colab-df-convert {\n",
              "      background-color: #3B4455;\n",
              "      fill: #D2E3FC;\n",
              "    }\n",
              "\n",
              "    [theme=dark] .colab-df-convert:hover {\n",
              "      background-color: #434B5C;\n",
              "      box-shadow: 0px 1px 3px 1px rgba(0, 0, 0, 0.15);\n",
              "      filter: drop-shadow(0px 1px 2px rgba(0, 0, 0, 0.3));\n",
              "      fill: #FFFFFF;\n",
              "    }\n",
              "  </style>\n",
              "\n",
              "    <script>\n",
              "      const buttonEl =\n",
              "        document.querySelector('#df-1375ab5a-dd98-4676-911d-9a49e3e9a090 button.colab-df-convert');\n",
              "      buttonEl.style.display =\n",
              "        google.colab.kernel.accessAllowed ? 'block' : 'none';\n",
              "\n",
              "      async function convertToInteractive(key) {\n",
              "        const element = document.querySelector('#df-1375ab5a-dd98-4676-911d-9a49e3e9a090');\n",
              "        const dataTable =\n",
              "          await google.colab.kernel.invokeFunction('convertToInteractive',\n",
              "                                                    [key], {});\n",
              "        if (!dataTable) return;\n",
              "\n",
              "        const docLinkHtml = 'Like what you see? Visit the ' +\n",
              "          '<a target=\"_blank\" href=https://colab.research.google.com/notebooks/data_table.ipynb>data table notebook</a>'\n",
              "          + ' to learn more about interactive tables.';\n",
              "        element.innerHTML = '';\n",
              "        dataTable['output_type'] = 'display_data';\n",
              "        await google.colab.output.renderOutput(dataTable, element);\n",
              "        const docLink = document.createElement('div');\n",
              "        docLink.innerHTML = docLinkHtml;\n",
              "        element.appendChild(docLink);\n",
              "      }\n",
              "    </script>\n",
              "  </div>\n",
              "\n",
              "\n",
              "<div id=\"df-3fca01bc-122b-4924-922b-d51c09a97a21\">\n",
              "  <button class=\"colab-df-quickchart\" onclick=\"quickchart('df-3fca01bc-122b-4924-922b-d51c09a97a21')\"\n",
              "            title=\"Suggest charts\"\n",
              "            style=\"display:none;\">\n",
              "\n",
              "<svg xmlns=\"http://www.w3.org/2000/svg\" height=\"24px\"viewBox=\"0 0 24 24\"\n",
              "     width=\"24px\">\n",
              "    <g>\n",
              "        <path d=\"M19 3H5c-1.1 0-2 .9-2 2v14c0 1.1.9 2 2 2h14c1.1 0 2-.9 2-2V5c0-1.1-.9-2-2-2zM9 17H7v-7h2v7zm4 0h-2V7h2v10zm4 0h-2v-4h2v4z\"/>\n",
              "    </g>\n",
              "</svg>\n",
              "  </button>\n",
              "\n",
              "<style>\n",
              "  .colab-df-quickchart {\n",
              "      --bg-color: #E8F0FE;\n",
              "      --fill-color: #1967D2;\n",
              "      --hover-bg-color: #E2EBFA;\n",
              "      --hover-fill-color: #174EA6;\n",
              "      --disabled-fill-color: #AAA;\n",
              "      --disabled-bg-color: #DDD;\n",
              "  }\n",
              "\n",
              "  [theme=dark] .colab-df-quickchart {\n",
              "      --bg-color: #3B4455;\n",
              "      --fill-color: #D2E3FC;\n",
              "      --hover-bg-color: #434B5C;\n",
              "      --hover-fill-color: #FFFFFF;\n",
              "      --disabled-bg-color: #3B4455;\n",
              "      --disabled-fill-color: #666;\n",
              "  }\n",
              "\n",
              "  .colab-df-quickchart {\n",
              "    background-color: var(--bg-color);\n",
              "    border: none;\n",
              "    border-radius: 50%;\n",
              "    cursor: pointer;\n",
              "    display: none;\n",
              "    fill: var(--fill-color);\n",
              "    height: 32px;\n",
              "    padding: 0;\n",
              "    width: 32px;\n",
              "  }\n",
              "\n",
              "  .colab-df-quickchart:hover {\n",
              "    background-color: var(--hover-bg-color);\n",
              "    box-shadow: 0 1px 2px rgba(60, 64, 67, 0.3), 0 1px 3px 1px rgba(60, 64, 67, 0.15);\n",
              "    fill: var(--button-hover-fill-color);\n",
              "  }\n",
              "\n",
              "  .colab-df-quickchart-complete:disabled,\n",
              "  .colab-df-quickchart-complete:disabled:hover {\n",
              "    background-color: var(--disabled-bg-color);\n",
              "    fill: var(--disabled-fill-color);\n",
              "    box-shadow: none;\n",
              "  }\n",
              "\n",
              "  .colab-df-spinner {\n",
              "    border: 2px solid var(--fill-color);\n",
              "    border-color: transparent;\n",
              "    border-bottom-color: var(--fill-color);\n",
              "    animation:\n",
              "      spin 1s steps(1) infinite;\n",
              "  }\n",
              "\n",
              "  @keyframes spin {\n",
              "    0% {\n",
              "      border-color: transparent;\n",
              "      border-bottom-color: var(--fill-color);\n",
              "      border-left-color: var(--fill-color);\n",
              "    }\n",
              "    20% {\n",
              "      border-color: transparent;\n",
              "      border-left-color: var(--fill-color);\n",
              "      border-top-color: var(--fill-color);\n",
              "    }\n",
              "    30% {\n",
              "      border-color: transparent;\n",
              "      border-left-color: var(--fill-color);\n",
              "      border-top-color: var(--fill-color);\n",
              "      border-right-color: var(--fill-color);\n",
              "    }\n",
              "    40% {\n",
              "      border-color: transparent;\n",
              "      border-right-color: var(--fill-color);\n",
              "      border-top-color: var(--fill-color);\n",
              "    }\n",
              "    60% {\n",
              "      border-color: transparent;\n",
              "      border-right-color: var(--fill-color);\n",
              "    }\n",
              "    80% {\n",
              "      border-color: transparent;\n",
              "      border-right-color: var(--fill-color);\n",
              "      border-bottom-color: var(--fill-color);\n",
              "    }\n",
              "    90% {\n",
              "      border-color: transparent;\n",
              "      border-bottom-color: var(--fill-color);\n",
              "    }\n",
              "  }\n",
              "</style>\n",
              "\n",
              "  <script>\n",
              "    async function quickchart(key) {\n",
              "      const quickchartButtonEl =\n",
              "        document.querySelector('#' + key + ' button');\n",
              "      quickchartButtonEl.disabled = true;  // To prevent multiple clicks.\n",
              "      quickchartButtonEl.classList.add('colab-df-spinner');\n",
              "      try {\n",
              "        const charts = await google.colab.kernel.invokeFunction(\n",
              "            'suggestCharts', [key], {});\n",
              "      } catch (error) {\n",
              "        console.error('Error during call to suggestCharts:', error);\n",
              "      }\n",
              "      quickchartButtonEl.classList.remove('colab-df-spinner');\n",
              "      quickchartButtonEl.classList.add('colab-df-quickchart-complete');\n",
              "    }\n",
              "    (() => {\n",
              "      let quickchartButtonEl =\n",
              "        document.querySelector('#df-3fca01bc-122b-4924-922b-d51c09a97a21 button');\n",
              "      quickchartButtonEl.style.display =\n",
              "        google.colab.kernel.accessAllowed ? 'block' : 'none';\n",
              "    })();\n",
              "  </script>\n",
              "</div>\n",
              "    </div>\n",
              "  </div>\n"
            ],
            "application/vnd.google.colaboratory.intrinsic+json": {
              "type": "dataframe",
              "variable_name": "X"
            }
          },
          "metadata": {},
          "execution_count": 11
        }
      ]
    },
    {
      "cell_type": "code",
      "source": [
        "encoder = LabelEncoder()"
      ],
      "metadata": {
        "id": "m8TwpMoR5hkQ"
      },
      "execution_count": 12,
      "outputs": []
    },
    {
      "cell_type": "code",
      "source": [
        "X['Gender'] = encoder.fit_transform(X['Gender'])"
      ],
      "metadata": {
        "colab": {
          "base_uri": "https://localhost:8080/"
        },
        "id": "CUkY8p8L5466",
        "outputId": "658f1970-f5e1-41ef-f370-bc09a80c7ccb"
      },
      "execution_count": 13,
      "outputs": [
        {
          "output_type": "stream",
          "name": "stderr",
          "text": [
            "<ipython-input-13-3342336525d0>:1: SettingWithCopyWarning: \n",
            "A value is trying to be set on a copy of a slice from a DataFrame.\n",
            "Try using .loc[row_indexer,col_indexer] = value instead\n",
            "\n",
            "See the caveats in the documentation: https://pandas.pydata.org/pandas-docs/stable/user_guide/indexing.html#returning-a-view-versus-a-copy\n",
            "  X['Gender'] = encoder.fit_transform(X['Gender'])\n"
          ]
        }
      ]
    },
    {
      "cell_type": "code",
      "source": [
        "X['Age'].unique()"
      ],
      "metadata": {
        "colab": {
          "base_uri": "https://localhost:8080/"
        },
        "id": "VbpymsFE6gyj",
        "outputId": "63e97530-8454-4beb-d983-8955e3b59a73"
      },
      "execution_count": 14,
      "outputs": [
        {
          "output_type": "execute_result",
          "data": {
            "text/plain": [
              "array(['41-50', '31-40', '21-30', '18-20', '26-30', '21-25', '>60',\n",
              "       '51-60'], dtype=object)"
            ]
          },
          "metadata": {},
          "execution_count": 14
        }
      ]
    },
    {
      "cell_type": "code",
      "source": [
        "age_dict = { '18-20' : 0 ,'21-25' :1 ,'21-30' :2 ,'26-30' :3,'31-40' :4  ,'41-50' :5 ,'51-60' : 6 , '>60' : 7 }"
      ],
      "metadata": {
        "id": "HQKO9ViU7Ihi"
      },
      "execution_count": 15,
      "outputs": []
    },
    {
      "cell_type": "code",
      "source": [
        "X['Age'] = X['Age'].map(age_dict)"
      ],
      "metadata": {
        "id": "9e4zabRO7nem"
      },
      "execution_count": null,
      "outputs": []
    },
    {
      "cell_type": "code",
      "source": [
        "X.head(5)"
      ],
      "metadata": {
        "colab": {
          "base_uri": "https://localhost:8080/",
          "height": 324
        },
        "id": "dc1RuSmo9LDJ",
        "outputId": "2a08abfe-4819-4b93-8186-4f69b38b7b9b"
      },
      "execution_count": 17,
      "outputs": [
        {
          "output_type": "execute_result",
          "data": {
            "text/plain": [
              "   Gender  Age                  Ethnicity  T_atm  Humidity  Distance  \\\n",
              "0       1    5                      White   24.0      28.0       0.8   \n",
              "1       0    4  Black or African-American   24.0      26.0       0.8   \n",
              "2       0    2                      White   24.0      26.0       0.8   \n",
              "3       0    2  Black or African-American   24.0      27.0       0.8   \n",
              "4       1    0                      White   24.0      27.0       0.8   \n",
              "\n",
              "   T_offset1  Max1R13_1  Max1L13_1  aveAllR13_1  ...  T_FHCC1  T_FHRC1  \\\n",
              "0     0.7025    35.0300    35.3775      34.4000  ...  33.5775  33.4775   \n",
              "1     0.7800    34.5500    34.5200      33.9300  ...  34.0325  34.0550   \n",
              "2     0.8625    35.6525    35.5175      34.2775  ...  34.9000  34.8275   \n",
              "3     0.9300    35.2225    35.6125      34.3850  ...  34.4400  34.4225   \n",
              "4     0.8950    35.5450    35.6650      34.9100  ...  35.0900  35.1600   \n",
              "\n",
              "   T_FHLC1  T_FHBC1  T_FHTC1  T_FH_Max1  T_FHC_Max1   T_Max1    T_OR1  \\\n",
              "0  33.3725  33.4925  33.0025    34.5300     34.0075  35.6925  35.6350   \n",
              "1  33.6775  33.9700  34.0025    34.6825     34.6600  35.1750  35.0925   \n",
              "2  34.6475  34.8200  34.6700    35.3450     35.2225  35.9125  35.8600   \n",
              "3  34.6550  34.3025  34.9175    35.6025     35.3150  35.7200  34.9650   \n",
              "4  34.3975  34.6700  33.8275    35.4175     35.3725  35.8950  35.5875   \n",
              "\n",
              "   T_OR_Max1  \n",
              "0    35.6525  \n",
              "1    35.1075  \n",
              "2    35.8850  \n",
              "3    34.9825  \n",
              "4    35.6175  \n",
              "\n",
              "[5 rows x 33 columns]"
            ],
            "text/html": [
              "\n",
              "  <div id=\"df-6bcba3e5-44c6-44a6-9a7f-7ee08785987c\" class=\"colab-df-container\">\n",
              "    <div>\n",
              "<style scoped>\n",
              "    .dataframe tbody tr th:only-of-type {\n",
              "        vertical-align: middle;\n",
              "    }\n",
              "\n",
              "    .dataframe tbody tr th {\n",
              "        vertical-align: top;\n",
              "    }\n",
              "\n",
              "    .dataframe thead th {\n",
              "        text-align: right;\n",
              "    }\n",
              "</style>\n",
              "<table border=\"1\" class=\"dataframe\">\n",
              "  <thead>\n",
              "    <tr style=\"text-align: right;\">\n",
              "      <th></th>\n",
              "      <th>Gender</th>\n",
              "      <th>Age</th>\n",
              "      <th>Ethnicity</th>\n",
              "      <th>T_atm</th>\n",
              "      <th>Humidity</th>\n",
              "      <th>Distance</th>\n",
              "      <th>T_offset1</th>\n",
              "      <th>Max1R13_1</th>\n",
              "      <th>Max1L13_1</th>\n",
              "      <th>aveAllR13_1</th>\n",
              "      <th>...</th>\n",
              "      <th>T_FHCC1</th>\n",
              "      <th>T_FHRC1</th>\n",
              "      <th>T_FHLC1</th>\n",
              "      <th>T_FHBC1</th>\n",
              "      <th>T_FHTC1</th>\n",
              "      <th>T_FH_Max1</th>\n",
              "      <th>T_FHC_Max1</th>\n",
              "      <th>T_Max1</th>\n",
              "      <th>T_OR1</th>\n",
              "      <th>T_OR_Max1</th>\n",
              "    </tr>\n",
              "  </thead>\n",
              "  <tbody>\n",
              "    <tr>\n",
              "      <th>0</th>\n",
              "      <td>1</td>\n",
              "      <td>5</td>\n",
              "      <td>White</td>\n",
              "      <td>24.0</td>\n",
              "      <td>28.0</td>\n",
              "      <td>0.8</td>\n",
              "      <td>0.7025</td>\n",
              "      <td>35.0300</td>\n",
              "      <td>35.3775</td>\n",
              "      <td>34.4000</td>\n",
              "      <td>...</td>\n",
              "      <td>33.5775</td>\n",
              "      <td>33.4775</td>\n",
              "      <td>33.3725</td>\n",
              "      <td>33.4925</td>\n",
              "      <td>33.0025</td>\n",
              "      <td>34.5300</td>\n",
              "      <td>34.0075</td>\n",
              "      <td>35.6925</td>\n",
              "      <td>35.6350</td>\n",
              "      <td>35.6525</td>\n",
              "    </tr>\n",
              "    <tr>\n",
              "      <th>1</th>\n",
              "      <td>0</td>\n",
              "      <td>4</td>\n",
              "      <td>Black or African-American</td>\n",
              "      <td>24.0</td>\n",
              "      <td>26.0</td>\n",
              "      <td>0.8</td>\n",
              "      <td>0.7800</td>\n",
              "      <td>34.5500</td>\n",
              "      <td>34.5200</td>\n",
              "      <td>33.9300</td>\n",
              "      <td>...</td>\n",
              "      <td>34.0325</td>\n",
              "      <td>34.0550</td>\n",
              "      <td>33.6775</td>\n",
              "      <td>33.9700</td>\n",
              "      <td>34.0025</td>\n",
              "      <td>34.6825</td>\n",
              "      <td>34.6600</td>\n",
              "      <td>35.1750</td>\n",
              "      <td>35.0925</td>\n",
              "      <td>35.1075</td>\n",
              "    </tr>\n",
              "    <tr>\n",
              "      <th>2</th>\n",
              "      <td>0</td>\n",
              "      <td>2</td>\n",
              "      <td>White</td>\n",
              "      <td>24.0</td>\n",
              "      <td>26.0</td>\n",
              "      <td>0.8</td>\n",
              "      <td>0.8625</td>\n",
              "      <td>35.6525</td>\n",
              "      <td>35.5175</td>\n",
              "      <td>34.2775</td>\n",
              "      <td>...</td>\n",
              "      <td>34.9000</td>\n",
              "      <td>34.8275</td>\n",
              "      <td>34.6475</td>\n",
              "      <td>34.8200</td>\n",
              "      <td>34.6700</td>\n",
              "      <td>35.3450</td>\n",
              "      <td>35.2225</td>\n",
              "      <td>35.9125</td>\n",
              "      <td>35.8600</td>\n",
              "      <td>35.8850</td>\n",
              "    </tr>\n",
              "    <tr>\n",
              "      <th>3</th>\n",
              "      <td>0</td>\n",
              "      <td>2</td>\n",
              "      <td>Black or African-American</td>\n",
              "      <td>24.0</td>\n",
              "      <td>27.0</td>\n",
              "      <td>0.8</td>\n",
              "      <td>0.9300</td>\n",
              "      <td>35.2225</td>\n",
              "      <td>35.6125</td>\n",
              "      <td>34.3850</td>\n",
              "      <td>...</td>\n",
              "      <td>34.4400</td>\n",
              "      <td>34.4225</td>\n",
              "      <td>34.6550</td>\n",
              "      <td>34.3025</td>\n",
              "      <td>34.9175</td>\n",
              "      <td>35.6025</td>\n",
              "      <td>35.3150</td>\n",
              "      <td>35.7200</td>\n",
              "      <td>34.9650</td>\n",
              "      <td>34.9825</td>\n",
              "    </tr>\n",
              "    <tr>\n",
              "      <th>4</th>\n",
              "      <td>1</td>\n",
              "      <td>0</td>\n",
              "      <td>White</td>\n",
              "      <td>24.0</td>\n",
              "      <td>27.0</td>\n",
              "      <td>0.8</td>\n",
              "      <td>0.8950</td>\n",
              "      <td>35.5450</td>\n",
              "      <td>35.6650</td>\n",
              "      <td>34.9100</td>\n",
              "      <td>...</td>\n",
              "      <td>35.0900</td>\n",
              "      <td>35.1600</td>\n",
              "      <td>34.3975</td>\n",
              "      <td>34.6700</td>\n",
              "      <td>33.8275</td>\n",
              "      <td>35.4175</td>\n",
              "      <td>35.3725</td>\n",
              "      <td>35.8950</td>\n",
              "      <td>35.5875</td>\n",
              "      <td>35.6175</td>\n",
              "    </tr>\n",
              "  </tbody>\n",
              "</table>\n",
              "<p>5 rows × 33 columns</p>\n",
              "</div>\n",
              "    <div class=\"colab-df-buttons\">\n",
              "\n",
              "  <div class=\"colab-df-container\">\n",
              "    <button class=\"colab-df-convert\" onclick=\"convertToInteractive('df-6bcba3e5-44c6-44a6-9a7f-7ee08785987c')\"\n",
              "            title=\"Convert this dataframe to an interactive table.\"\n",
              "            style=\"display:none;\">\n",
              "\n",
              "  <svg xmlns=\"http://www.w3.org/2000/svg\" height=\"24px\" viewBox=\"0 -960 960 960\">\n",
              "    <path d=\"M120-120v-720h720v720H120Zm60-500h600v-160H180v160Zm220 220h160v-160H400v160Zm0 220h160v-160H400v160ZM180-400h160v-160H180v160Zm440 0h160v-160H620v160ZM180-180h160v-160H180v160Zm440 0h160v-160H620v160Z\"/>\n",
              "  </svg>\n",
              "    </button>\n",
              "\n",
              "  <style>\n",
              "    .colab-df-container {\n",
              "      display:flex;\n",
              "      gap: 12px;\n",
              "    }\n",
              "\n",
              "    .colab-df-convert {\n",
              "      background-color: #E8F0FE;\n",
              "      border: none;\n",
              "      border-radius: 50%;\n",
              "      cursor: pointer;\n",
              "      display: none;\n",
              "      fill: #1967D2;\n",
              "      height: 32px;\n",
              "      padding: 0 0 0 0;\n",
              "      width: 32px;\n",
              "    }\n",
              "\n",
              "    .colab-df-convert:hover {\n",
              "      background-color: #E2EBFA;\n",
              "      box-shadow: 0px 1px 2px rgba(60, 64, 67, 0.3), 0px 1px 3px 1px rgba(60, 64, 67, 0.15);\n",
              "      fill: #174EA6;\n",
              "    }\n",
              "\n",
              "    .colab-df-buttons div {\n",
              "      margin-bottom: 4px;\n",
              "    }\n",
              "\n",
              "    [theme=dark] .colab-df-convert {\n",
              "      background-color: #3B4455;\n",
              "      fill: #D2E3FC;\n",
              "    }\n",
              "\n",
              "    [theme=dark] .colab-df-convert:hover {\n",
              "      background-color: #434B5C;\n",
              "      box-shadow: 0px 1px 3px 1px rgba(0, 0, 0, 0.15);\n",
              "      filter: drop-shadow(0px 1px 2px rgba(0, 0, 0, 0.3));\n",
              "      fill: #FFFFFF;\n",
              "    }\n",
              "  </style>\n",
              "\n",
              "    <script>\n",
              "      const buttonEl =\n",
              "        document.querySelector('#df-6bcba3e5-44c6-44a6-9a7f-7ee08785987c button.colab-df-convert');\n",
              "      buttonEl.style.display =\n",
              "        google.colab.kernel.accessAllowed ? 'block' : 'none';\n",
              "\n",
              "      async function convertToInteractive(key) {\n",
              "        const element = document.querySelector('#df-6bcba3e5-44c6-44a6-9a7f-7ee08785987c');\n",
              "        const dataTable =\n",
              "          await google.colab.kernel.invokeFunction('convertToInteractive',\n",
              "                                                    [key], {});\n",
              "        if (!dataTable) return;\n",
              "\n",
              "        const docLinkHtml = 'Like what you see? Visit the ' +\n",
              "          '<a target=\"_blank\" href=https://colab.research.google.com/notebooks/data_table.ipynb>data table notebook</a>'\n",
              "          + ' to learn more about interactive tables.';\n",
              "        element.innerHTML = '';\n",
              "        dataTable['output_type'] = 'display_data';\n",
              "        await google.colab.output.renderOutput(dataTable, element);\n",
              "        const docLink = document.createElement('div');\n",
              "        docLink.innerHTML = docLinkHtml;\n",
              "        element.appendChild(docLink);\n",
              "      }\n",
              "    </script>\n",
              "  </div>\n",
              "\n",
              "\n",
              "<div id=\"df-92d9f2e8-d991-4088-a086-85939506f151\">\n",
              "  <button class=\"colab-df-quickchart\" onclick=\"quickchart('df-92d9f2e8-d991-4088-a086-85939506f151')\"\n",
              "            title=\"Suggest charts\"\n",
              "            style=\"display:none;\">\n",
              "\n",
              "<svg xmlns=\"http://www.w3.org/2000/svg\" height=\"24px\"viewBox=\"0 0 24 24\"\n",
              "     width=\"24px\">\n",
              "    <g>\n",
              "        <path d=\"M19 3H5c-1.1 0-2 .9-2 2v14c0 1.1.9 2 2 2h14c1.1 0 2-.9 2-2V5c0-1.1-.9-2-2-2zM9 17H7v-7h2v7zm4 0h-2V7h2v10zm4 0h-2v-4h2v4z\"/>\n",
              "    </g>\n",
              "</svg>\n",
              "  </button>\n",
              "\n",
              "<style>\n",
              "  .colab-df-quickchart {\n",
              "      --bg-color: #E8F0FE;\n",
              "      --fill-color: #1967D2;\n",
              "      --hover-bg-color: #E2EBFA;\n",
              "      --hover-fill-color: #174EA6;\n",
              "      --disabled-fill-color: #AAA;\n",
              "      --disabled-bg-color: #DDD;\n",
              "  }\n",
              "\n",
              "  [theme=dark] .colab-df-quickchart {\n",
              "      --bg-color: #3B4455;\n",
              "      --fill-color: #D2E3FC;\n",
              "      --hover-bg-color: #434B5C;\n",
              "      --hover-fill-color: #FFFFFF;\n",
              "      --disabled-bg-color: #3B4455;\n",
              "      --disabled-fill-color: #666;\n",
              "  }\n",
              "\n",
              "  .colab-df-quickchart {\n",
              "    background-color: var(--bg-color);\n",
              "    border: none;\n",
              "    border-radius: 50%;\n",
              "    cursor: pointer;\n",
              "    display: none;\n",
              "    fill: var(--fill-color);\n",
              "    height: 32px;\n",
              "    padding: 0;\n",
              "    width: 32px;\n",
              "  }\n",
              "\n",
              "  .colab-df-quickchart:hover {\n",
              "    background-color: var(--hover-bg-color);\n",
              "    box-shadow: 0 1px 2px rgba(60, 64, 67, 0.3), 0 1px 3px 1px rgba(60, 64, 67, 0.15);\n",
              "    fill: var(--button-hover-fill-color);\n",
              "  }\n",
              "\n",
              "  .colab-df-quickchart-complete:disabled,\n",
              "  .colab-df-quickchart-complete:disabled:hover {\n",
              "    background-color: var(--disabled-bg-color);\n",
              "    fill: var(--disabled-fill-color);\n",
              "    box-shadow: none;\n",
              "  }\n",
              "\n",
              "  .colab-df-spinner {\n",
              "    border: 2px solid var(--fill-color);\n",
              "    border-color: transparent;\n",
              "    border-bottom-color: var(--fill-color);\n",
              "    animation:\n",
              "      spin 1s steps(1) infinite;\n",
              "  }\n",
              "\n",
              "  @keyframes spin {\n",
              "    0% {\n",
              "      border-color: transparent;\n",
              "      border-bottom-color: var(--fill-color);\n",
              "      border-left-color: var(--fill-color);\n",
              "    }\n",
              "    20% {\n",
              "      border-color: transparent;\n",
              "      border-left-color: var(--fill-color);\n",
              "      border-top-color: var(--fill-color);\n",
              "    }\n",
              "    30% {\n",
              "      border-color: transparent;\n",
              "      border-left-color: var(--fill-color);\n",
              "      border-top-color: var(--fill-color);\n",
              "      border-right-color: var(--fill-color);\n",
              "    }\n",
              "    40% {\n",
              "      border-color: transparent;\n",
              "      border-right-color: var(--fill-color);\n",
              "      border-top-color: var(--fill-color);\n",
              "    }\n",
              "    60% {\n",
              "      border-color: transparent;\n",
              "      border-right-color: var(--fill-color);\n",
              "    }\n",
              "    80% {\n",
              "      border-color: transparent;\n",
              "      border-right-color: var(--fill-color);\n",
              "      border-bottom-color: var(--fill-color);\n",
              "    }\n",
              "    90% {\n",
              "      border-color: transparent;\n",
              "      border-bottom-color: var(--fill-color);\n",
              "    }\n",
              "  }\n",
              "</style>\n",
              "\n",
              "  <script>\n",
              "    async function quickchart(key) {\n",
              "      const quickchartButtonEl =\n",
              "        document.querySelector('#' + key + ' button');\n",
              "      quickchartButtonEl.disabled = true;  // To prevent multiple clicks.\n",
              "      quickchartButtonEl.classList.add('colab-df-spinner');\n",
              "      try {\n",
              "        const charts = await google.colab.kernel.invokeFunction(\n",
              "            'suggestCharts', [key], {});\n",
              "      } catch (error) {\n",
              "        console.error('Error during call to suggestCharts:', error);\n",
              "      }\n",
              "      quickchartButtonEl.classList.remove('colab-df-spinner');\n",
              "      quickchartButtonEl.classList.add('colab-df-quickchart-complete');\n",
              "    }\n",
              "    (() => {\n",
              "      let quickchartButtonEl =\n",
              "        document.querySelector('#df-92d9f2e8-d991-4088-a086-85939506f151 button');\n",
              "      quickchartButtonEl.style.display =\n",
              "        google.colab.kernel.accessAllowed ? 'block' : 'none';\n",
              "    })();\n",
              "  </script>\n",
              "</div>\n",
              "    </div>\n",
              "  </div>\n"
            ],
            "application/vnd.google.colaboratory.intrinsic+json": {
              "type": "dataframe",
              "variable_name": "X"
            }
          },
          "metadata": {},
          "execution_count": 17
        }
      ]
    },
    {
      "cell_type": "code",
      "source": [
        "X = X.drop('Ethnicity' , axis =1 )"
      ],
      "metadata": {
        "id": "kwR5IOiA0MG4"
      },
      "execution_count": 18,
      "outputs": []
    },
    {
      "cell_type": "code",
      "source": [
        "X.isnull().sum()"
      ],
      "metadata": {
        "colab": {
          "base_uri": "https://localhost:8080/"
        },
        "id": "wlynOVaFH3nw",
        "outputId": "1c8a6aa9-1351-4ed3-92ed-35d2ada5cc5b"
      },
      "execution_count": 19,
      "outputs": [
        {
          "output_type": "execute_result",
          "data": {
            "text/plain": [
              "Gender         0\n",
              "Age            0\n",
              "T_atm          0\n",
              "Humidity       0\n",
              "Distance       0\n",
              "T_offset1      0\n",
              "Max1R13_1      0\n",
              "Max1L13_1      0\n",
              "aveAllR13_1    0\n",
              "aveAllL13_1    0\n",
              "T_RC1          0\n",
              "T_RC_Dry1      0\n",
              "T_RC_Wet1      0\n",
              "T_RC_Max1      0\n",
              "T_LC1          0\n",
              "T_LC_Dry1      0\n",
              "T_LC_Wet1      0\n",
              "T_LC_Max1      0\n",
              "RCC1           0\n",
              "LCC1           0\n",
              "canthiMax1     0\n",
              "canthi4Max1    0\n",
              "T_FHCC1        0\n",
              "T_FHRC1        0\n",
              "T_FHLC1        0\n",
              "T_FHBC1        0\n",
              "T_FHTC1        0\n",
              "T_FH_Max1      0\n",
              "T_FHC_Max1     0\n",
              "T_Max1         0\n",
              "T_OR1          0\n",
              "T_OR_Max1      0\n",
              "dtype: int64"
            ]
          },
          "metadata": {},
          "execution_count": 19
        }
      ]
    },
    {
      "cell_type": "code",
      "source": [
        "# lets dig into Dimensionality Reduction with PCA"
      ],
      "metadata": {
        "id": "jLvB5JyrH41_"
      },
      "execution_count": 20,
      "outputs": []
    },
    {
      "cell_type": "code",
      "source": [
        "col = X.columns"
      ],
      "metadata": {
        "id": "gtw5FZDOJ1f_"
      },
      "execution_count": 21,
      "outputs": []
    },
    {
      "cell_type": "code",
      "source": [
        "col"
      ],
      "metadata": {
        "colab": {
          "base_uri": "https://localhost:8080/"
        },
        "id": "1Tsdn1jqJ7pd",
        "outputId": "6259e643-fcd1-4cda-ea99-c0bebde8ba6f"
      },
      "execution_count": 22,
      "outputs": [
        {
          "output_type": "execute_result",
          "data": {
            "text/plain": [
              "Index(['Gender', 'Age', 'T_atm', 'Humidity', 'Distance', 'T_offset1',\n",
              "       'Max1R13_1', 'Max1L13_1', 'aveAllR13_1', 'aveAllL13_1', 'T_RC1',\n",
              "       'T_RC_Dry1', 'T_RC_Wet1', 'T_RC_Max1', 'T_LC1', 'T_LC_Dry1',\n",
              "       'T_LC_Wet1', 'T_LC_Max1', 'RCC1', 'LCC1', 'canthiMax1', 'canthi4Max1',\n",
              "       'T_FHCC1', 'T_FHRC1', 'T_FHLC1', 'T_FHBC1', 'T_FHTC1', 'T_FH_Max1',\n",
              "       'T_FHC_Max1', 'T_Max1', 'T_OR1', 'T_OR_Max1'],\n",
              "      dtype='object')"
            ]
          },
          "metadata": {},
          "execution_count": 22
        }
      ]
    },
    {
      "cell_type": "code",
      "source": [
        "mms = MinMaxScaler()"
      ],
      "metadata": {
        "id": "DRM7A38PICpE"
      },
      "execution_count": 23,
      "outputs": []
    },
    {
      "cell_type": "code",
      "source": [
        "scaled_f = mms.fit_transform(X)"
      ],
      "metadata": {
        "id": "TM_Vvns4JO8M"
      },
      "execution_count": 24,
      "outputs": []
    },
    {
      "cell_type": "code",
      "source": [
        "New_X = pd.DataFrame(data = scaled_f  , columns= ['Gender', 'Age', 'T_atm', 'Humidity', 'Distance', 'T_offset1',\n",
        "       'Max1R13_1', 'Max1L13_1', 'aveAllR13_1', 'aveAllL13_1', 'T_RC1',\n",
        "       'T_RC_Dry1', 'T_RC_Wet1', 'T_RC_Max1', 'T_LC1', 'T_LC_Dry1',\n",
        "       'T_LC_Wet1', 'T_LC_Max1', 'RCC1', 'LCC1', 'canthiMax1', 'canthi4Max1',\n",
        "       'T_FHCC1', 'T_FHRC1', 'T_FHLC1', 'T_FHBC1', 'T_FHTC1', 'T_FH_Max1',\n",
        "       'T_FHC_Max1', 'T_Max1', 'T_OR1', 'T_OR_Max1'])"
      ],
      "metadata": {
        "id": "JXzeJoQjJWT_"
      },
      "execution_count": 25,
      "outputs": []
    },
    {
      "cell_type": "code",
      "source": [
        "scaled_target =  mms.fit_transform(y)"
      ],
      "metadata": {
        "id": "wwHEg0eTJYR-"
      },
      "execution_count": 26,
      "outputs": []
    },
    {
      "cell_type": "code",
      "source": [
        "y.columns"
      ],
      "metadata": {
        "colab": {
          "base_uri": "https://localhost:8080/"
        },
        "id": "mujRa4i5KV3o",
        "outputId": "f1bbad0d-afe6-435d-c38e-3672efa526ad"
      },
      "execution_count": 27,
      "outputs": [
        {
          "output_type": "execute_result",
          "data": {
            "text/plain": [
              "Index(['aveOralF'], dtype='object')"
            ]
          },
          "metadata": {},
          "execution_count": 27
        }
      ]
    },
    {
      "cell_type": "code",
      "source": [
        "New_y =pd.DataFrame(data = scaled_target ,columns=['aveOralF'])"
      ],
      "metadata": {
        "id": "l2Es_kmGKDUG"
      },
      "execution_count": 28,
      "outputs": []
    },
    {
      "cell_type": "code",
      "source": [
        "std = StandardScaler()"
      ],
      "metadata": {
        "id": "QpvUhuJxKjNt"
      },
      "execution_count": 29,
      "outputs": []
    },
    {
      "cell_type": "code",
      "source": [
        "New_X = std.fit_transform(New_X)\n",
        "New_y = std.fit_transform(New_y)"
      ],
      "metadata": {
        "id": "I1pShOa4Kl_4"
      },
      "execution_count": 30,
      "outputs": []
    },
    {
      "cell_type": "code",
      "source": [
        "New_X = pd.DataFrame(data = New_X  , columns= ['Gender', 'Age', 'T_atm', 'Humidity', 'Distance', 'T_offset1',\n",
        "       'Max1R13_1', 'Max1L13_1', 'aveAllR13_1', 'aveAllL13_1', 'T_RC1',\n",
        "       'T_RC_Dry1', 'T_RC_Wet1', 'T_RC_Max1', 'T_LC1', 'T_LC_Dry1',\n",
        "       'T_LC_Wet1', 'T_LC_Max1', 'RCC1', 'LCC1', 'canthiMax1', 'canthi4Max1',\n",
        "       'T_FHCC1', 'T_FHRC1', 'T_FHLC1', 'T_FHBC1', 'T_FHTC1', 'T_FH_Max1',\n",
        "       'T_FHC_Max1', 'T_Max1', 'T_OR1', 'T_OR_Max1'])"
      ],
      "metadata": {
        "id": "NZc7UnLxLBof"
      },
      "execution_count": 31,
      "outputs": []
    },
    {
      "cell_type": "code",
      "source": [
        "New_y =pd.DataFrame(data = New_y ,columns=['aveOralF'])"
      ],
      "metadata": {
        "id": "6jBpN3MrLLlX"
      },
      "execution_count": 32,
      "outputs": []
    },
    {
      "cell_type": "code",
      "source": [
        "pca = PCA(n_components=2)  # Choose the number of desired components\n",
        "pca.fit(New_X)\n",
        "X_reduced = pca.transform(X)\n",
        "\n"
      ],
      "metadata": {
        "id": "C3k8quh1La6N"
      },
      "execution_count": 33,
      "outputs": []
    },
    {
      "cell_type": "code",
      "source": [
        "X_R_N = pd.DataFrame(data=X_reduced)"
      ],
      "metadata": {
        "id": "h_BI7BUFMrLM"
      },
      "execution_count": 34,
      "outputs": []
    },
    {
      "cell_type": "code",
      "source": [
        "X_R_N.shape"
      ],
      "metadata": {
        "colab": {
          "base_uri": "https://localhost:8080/"
        },
        "id": "Th3N4iFVM1uS",
        "outputId": "885a40c3-80c9-4e23-dcc5-2476366de768"
      },
      "execution_count": 35,
      "outputs": [
        {
          "output_type": "execute_result",
          "data": {
            "text/plain": [
              "(1020, 2)"
            ]
          },
          "metadata": {},
          "execution_count": 35
        }
      ]
    },
    {
      "cell_type": "code",
      "source": [
        "X_train, X_test, y_train, y_test = train_test_split(X_R_N, New_y, test_size=0.2, random_state=42)\n"
      ],
      "metadata": {
        "id": "Q6wb-z-nNO3c"
      },
      "execution_count": 36,
      "outputs": []
    },
    {
      "cell_type": "code",
      "source": [
        "X_train = X_train.to_numpy()\n",
        "X_test = X_test.to_numpy()\n",
        "y_train = y_train.to_numpy()\n",
        "y_test = y_test.to_numpy()"
      ],
      "metadata": {
        "id": "9Ftlgj30OgpE"
      },
      "execution_count": 37,
      "outputs": []
    },
    {
      "cell_type": "code",
      "source": [
        "X_tensor = torch.from_numpy(X_train)\n"
      ],
      "metadata": {
        "id": "l7vA7vrTPAly"
      },
      "execution_count": 38,
      "outputs": []
    },
    {
      "cell_type": "code",
      "source": [
        "class LinearRegressionModel(nn.Module):\n",
        "  def __init__(self, input_dim):  # input_dim: number of features\n",
        "    super().__init__()\n",
        "    self.weights = nn.Parameter(torch.randn(input_dim, 1, requires_grad=True, dtype=torch.float))\n",
        "    self.bias = nn.Parameter(torch.randn(1, requires_grad=True, dtype=torch.float))\n",
        "\n",
        "  def forward(self, x: torch.Tensor):  # x: input features\n",
        "    return torch.mm(x, self.weights) + self.bias  # Matrix multiplication\n"
      ],
      "metadata": {
        "id": "a6QApuG8Nt98"
      },
      "execution_count": 42,
      "outputs": []
    },
    {
      "cell_type": "code",
      "source": [
        "X_train.shape[1]"
      ],
      "metadata": {
        "colab": {
          "base_uri": "https://localhost:8080/"
        },
        "id": "y6QIEaYfJvVm",
        "outputId": "3d36aeb7-9f42-48b4-81d6-599f351de94f"
      },
      "execution_count": 45,
      "outputs": [
        {
          "output_type": "execute_result",
          "data": {
            "text/plain": [
              "2"
            ]
          },
          "metadata": {},
          "execution_count": 45
        }
      ]
    },
    {
      "cell_type": "code",
      "source": [
        "model = LinearRegressionModel(X_train.shape[1])  # input_dim based on number of features in X"
      ],
      "metadata": {
        "id": "EEZKu3IvJnnV"
      },
      "execution_count": 46,
      "outputs": []
    },
    {
      "cell_type": "code",
      "source": [
        "loss_fn = nn.MSELoss()  # loss Function"
      ],
      "metadata": {
        "id": "29VRl3CoJ6vm"
      },
      "execution_count": 47,
      "outputs": []
    },
    {
      "cell_type": "code",
      "source": [
        "optimizer = torch.optim.Adam(model.parameters(), lr=0.01)  # Adjust learning rate as needed"
      ],
      "metadata": {
        "id": "s8pJCIpQJ9Pv"
      },
      "execution_count": 48,
      "outputs": []
    },
    {
      "cell_type": "code",
      "source": [
        "for epoch in range(100):\n",
        "  # Forward pass\n",
        "  y_pred = model(X)\n",
        "\n",
        "  # Calculate loss\n",
        "  loss = loss_fn(y_pred, y)\n",
        "\n",
        "  # Clear gradients\n",
        "  optimizer.zero_grad()\n",
        "\n",
        "  # Backpropagation\n",
        "  loss.backward()\n",
        "\n",
        "  # Update weights and bias\n",
        "  optimizer.step()\n",
        "\n",
        "  # Print loss (optional)\n",
        "  if epoch % 10 == 0:\n",
        "    print(f\"Epoch: {epoch+1}, Loss: {loss.item()}\")\n"
      ],
      "metadata": {
        "id": "xr1T8goEKPLF"
      },
      "execution_count": null,
      "outputs": []
    },
    {
      "cell_type": "code",
      "source": [
        "git remote add origin https://github.com/kingamirasadi/sklearn-pytorch.git"
      ],
      "metadata": {
        "colab": {
          "base_uri": "https://localhost:8080/",
          "height": 109
        },
        "id": "Cj8oAkQsLzNQ",
        "outputId": "2764756b-0d3a-4be2-8f35-7e82f7d19aa2"
      },
      "execution_count": 51,
      "outputs": [
        {
          "output_type": "error",
          "ename": "SyntaxError",
          "evalue": "invalid syntax (<ipython-input-51-e396f4e777c6>, line 1)",
          "traceback": [
            "\u001b[0;36m  File \u001b[0;32m\"<ipython-input-51-e396f4e777c6>\"\u001b[0;36m, line \u001b[0;32m1\u001b[0m\n\u001b[0;31m    git remote add origin https://github.com/kingamirasadi/sklearn-pytorch.git\u001b[0m\n\u001b[0m        ^\u001b[0m\n\u001b[0;31mSyntaxError\u001b[0m\u001b[0;31m:\u001b[0m invalid syntax\n"
          ]
        }
      ]
    }
  ]
}